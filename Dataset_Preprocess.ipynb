{
 "cells": [
  {
   "cell_type": "markdown",
   "metadata": {},
   "source": [
    "### Tải và import thư viện"
   ]
  },
  {
   "cell_type": "code",
   "execution_count": 38,
   "metadata": {},
   "outputs": [
    {
     "name": "stdout",
     "output_type": "stream",
     "text": [
      "Requirement already satisfied: pandas in c:\\users\\admin\\anaconda3\\lib\\site-packages (2.2.2)\n",
      "Requirement already satisfied: psycopg2 in c:\\users\\admin\\anaconda3\\lib\\site-packages (2.9.10)\n",
      "Requirement already satisfied: pyodbc in c:\\users\\admin\\anaconda3\\lib\\site-packages (5.0.1)\n",
      "Requirement already satisfied: sqlalchemy in c:\\users\\admin\\anaconda3\\lib\\site-packages (2.0.30)\n",
      "Requirement already satisfied: numpy>=1.26.0 in c:\\users\\admin\\anaconda3\\lib\\site-packages (from pandas) (1.26.4)\n",
      "Requirement already satisfied: python-dateutil>=2.8.2 in c:\\users\\admin\\appdata\\roaming\\python\\python312\\site-packages (from pandas) (2.9.0.post0)\n",
      "Requirement already satisfied: pytz>=2020.1 in c:\\users\\admin\\anaconda3\\lib\\site-packages (from pandas) (2024.1)\n",
      "Requirement already satisfied: tzdata>=2022.7 in c:\\users\\admin\\anaconda3\\lib\\site-packages (from pandas) (2023.3)\n",
      "Requirement already satisfied: typing-extensions>=4.6.0 in c:\\users\\admin\\anaconda3\\lib\\site-packages (from sqlalchemy) (4.11.0)\n",
      "Requirement already satisfied: greenlet!=0.4.17 in c:\\users\\admin\\anaconda3\\lib\\site-packages (from sqlalchemy) (3.0.1)\n",
      "Requirement already satisfied: six>=1.5 in c:\\users\\admin\\appdata\\roaming\\python\\python312\\site-packages (from python-dateutil>=2.8.2->pandas) (1.16.0)\n",
      "Note: you may need to restart the kernel to use updated packages.\n"
     ]
    }
   ],
   "source": [
    "%pip install pandas psycopg2 pyodbc sqlalchemy"
   ]
  },
  {
   "cell_type": "code",
   "execution_count": 39,
   "metadata": {},
   "outputs": [],
   "source": [
    "import pandas as pd\n",
    "import psycopg2\n",
    "from psycopg2 import sql\n",
    "import pyodbc\n",
    "import numpy as np\n",
    "from datetime import datetime\n",
    "from sqlalchemy import create_engine\n",
    "import calendar"
   ]
  },
  {
   "cell_type": "markdown",
   "metadata": {},
   "source": [
    "### Import Data"
   ]
  },
  {
   "cell_type": "code",
   "execution_count": 40,
   "metadata": {},
   "outputs": [
    {
     "data": {
      "text/html": [
       "<div>\n",
       "<style scoped>\n",
       "    .dataframe tbody tr th:only-of-type {\n",
       "        vertical-align: middle;\n",
       "    }\n",
       "\n",
       "    .dataframe tbody tr th {\n",
       "        vertical-align: top;\n",
       "    }\n",
       "\n",
       "    .dataframe thead th {\n",
       "        text-align: right;\n",
       "    }\n",
       "</style>\n",
       "<table border=\"1\" class=\"dataframe\">\n",
       "  <thead>\n",
       "    <tr style=\"text-align: right;\">\n",
       "      <th></th>\n",
       "      <th>STT</th>\n",
       "      <th>SoTienDKVayBanDau</th>\n",
       "      <th>TienGiaiNgan</th>\n",
       "      <th>SoTienConLai</th>\n",
       "      <th>application_date</th>\n",
       "      <th>TS_CREDIT_SCORE_V2</th>\n",
       "      <th>Số điện thoại khách hàng</th>\n",
       "      <th>FromDate</th>\n",
       "      <th>ID</th>\n",
       "      <th>LoanID</th>\n",
       "      <th>...</th>\n",
       "      <th>InterestPaymentType</th>\n",
       "      <th>LongestOverdue</th>\n",
       "      <th>CreditInfo</th>\n",
       "      <th>Name</th>\n",
       "      <th>Address</th>\n",
       "      <th>CheckTime</th>\n",
       "      <th>Brieft</th>\n",
       "      <th>NumberOfLoans</th>\n",
       "      <th>HasBadDebt</th>\n",
       "      <th>HasLatePayment</th>\n",
       "    </tr>\n",
       "  </thead>\n",
       "  <tbody>\n",
       "    <tr>\n",
       "      <th>0</th>\n",
       "      <td>2</td>\n",
       "      <td>10000000.0</td>\n",
       "      <td>NaN</td>\n",
       "      <td>0</td>\n",
       "      <td>2023-02-30</td>\n",
       "      <td>403</td>\n",
       "      <td>977966899</td>\n",
       "      <td>2016-06-24 00:00:00</td>\n",
       "      <td>40</td>\n",
       "      <td>16104</td>\n",
       "      <td>...</td>\n",
       "      <td>Lãi ngày</td>\n",
       "      <td>4</td>\n",
       "      <td>NaN</td>\n",
       "      <td>NaN</td>\n",
       "      <td>NaN</td>\n",
       "      <td>2019-03-17 11:22:15</td>\n",
       "      <td>notfound</td>\n",
       "      <td>-1</td>\n",
       "      <td>0</td>\n",
       "      <td>0</td>\n",
       "    </tr>\n",
       "    <tr>\n",
       "      <th>1</th>\n",
       "      <td>3</td>\n",
       "      <td>NaN</td>\n",
       "      <td>250000.0</td>\n",
       "      <td>0</td>\n",
       "      <td>2016-07-28</td>\n",
       "      <td>403</td>\n",
       "      <td>977966899</td>\n",
       "      <td>2016-07-28 00:00:00</td>\n",
       "      <td>226</td>\n",
       "      <td>20871</td>\n",
       "      <td>...</td>\n",
       "      <td>Lãi ngày</td>\n",
       "      <td>147</td>\n",
       "      <td>NaN</td>\n",
       "      <td>NaN</td>\n",
       "      <td>NaN</td>\n",
       "      <td>2019-03-17 11:22:15</td>\n",
       "      <td>notfound</td>\n",
       "      <td>-1</td>\n",
       "      <td>0</td>\n",
       "      <td>0</td>\n",
       "    </tr>\n",
       "    <tr>\n",
       "      <th>2</th>\n",
       "      <td>4</td>\n",
       "      <td>5000000.0</td>\n",
       "      <td>5000000.0</td>\n",
       "      <td>-50000</td>\n",
       "      <td>2016-06-29</td>\n",
       "      <td>531</td>\n",
       "      <td>397511119</td>\n",
       "      <td>2016-06-29 00:00:00</td>\n",
       "      <td>45</td>\n",
       "      <td>17049</td>\n",
       "      <td>...</td>\n",
       "      <td>Lãi ngày</td>\n",
       "      <td>3</td>\n",
       "      <td>Khách hàng hiện không có quan hệ tại TCTD, không có nợ cần chú ý và không có nợ xấu tại thời điểm cuối tháng 31/01/2019</td>\n",
       "      <td>DAO CONG QUYET</td>\n",
       "      <td>P203-E9 PHUONG MAI,DONG DA,HA NOI</td>\n",
       "      <td>2019-03-17 08:29:24</td>\n",
       "      <td>0</td>\n",
       "      <td>0</td>\n",
       "      <td>0</td>\n",
       "      <td>0</td>\n",
       "    </tr>\n",
       "    <tr>\n",
       "      <th>3</th>\n",
       "      <td>5</td>\n",
       "      <td>10000000.0</td>\n",
       "      <td>10000000.0</td>\n",
       "      <td>0</td>\n",
       "      <td>2016-06-29</td>\n",
       "      <td>588</td>\n",
       "      <td>abc1234567</td>\n",
       "      <td>2016-06-29 00:00:00</td>\n",
       "      <td>48</td>\n",
       "      <td>17067</td>\n",
       "      <td>...</td>\n",
       "      <td>Lãi ngày</td>\n",
       "      <td>16</td>\n",
       "      <td>Khách hàng hiện không có quan hệ tại TCTD, không có nợ cần chú ý và không có nợ xấu tại thời điểm cuối tháng 31/01/2019</td>\n",
       "      <td>NGUYEN ANH VU</td>\n",
       "      <td>SO 21 NGACH 77/4 LE HONG PHONG-DIEN BIEN-BA DINH-HN</td>\n",
       "      <td>2019-03-17 08:28:09</td>\n",
       "      <td>0</td>\n",
       "      <td>0</td>\n",
       "      <td>0</td>\n",
       "      <td>0</td>\n",
       "    </tr>\n",
       "    <tr>\n",
       "      <th>4</th>\n",
       "      <td>6</td>\n",
       "      <td>10000000.0</td>\n",
       "      <td>10000000.0</td>\n",
       "      <td>0</td>\n",
       "      <td>2016-08-05</td>\n",
       "      <td>675</td>\n",
       "      <td>966710180</td>\n",
       "      <td>2016-08-05 00:00:00</td>\n",
       "      <td>293</td>\n",
       "      <td>22390</td>\n",
       "      <td>...</td>\n",
       "      <td>Lãi ngày</td>\n",
       "      <td>8</td>\n",
       "      <td>Khách hàng hiện không có quan hệ tại TCTD, không có nợ cần chú ý và không có nợ xấu tại thời điểm cuối tháng 31/01/2019</td>\n",
       "      <td>ĐÀO NGỌC LINH</td>\n",
       "      <td>-, TT CỤC KHÍ TƯỢNG THỦY VĂN, TRUNG LIỆT, Q.ĐỐNG ĐA, HNO</td>\n",
       "      <td>2019-03-17 14:14:22</td>\n",
       "      <td>0</td>\n",
       "      <td>0</td>\n",
       "      <td>0</td>\n",
       "      <td>0</td>\n",
       "    </tr>\n",
       "    <tr>\n",
       "      <th>...</th>\n",
       "      <td>...</td>\n",
       "      <td>...</td>\n",
       "      <td>...</td>\n",
       "      <td>...</td>\n",
       "      <td>...</td>\n",
       "      <td>...</td>\n",
       "      <td>...</td>\n",
       "      <td>...</td>\n",
       "      <td>...</td>\n",
       "      <td>...</td>\n",
       "      <td>...</td>\n",
       "      <td>...</td>\n",
       "      <td>...</td>\n",
       "      <td>...</td>\n",
       "      <td>...</td>\n",
       "      <td>...</td>\n",
       "      <td>...</td>\n",
       "      <td>...</td>\n",
       "      <td>...</td>\n",
       "      <td>...</td>\n",
       "      <td>...</td>\n",
       "    </tr>\n",
       "    <tr>\n",
       "      <th>2378</th>\n",
       "      <td>3181</td>\n",
       "      <td>5000000.0</td>\n",
       "      <td>5000000.0</td>\n",
       "      <td>3474831</td>\n",
       "      <td>2018-12-24</td>\n",
       "      <td>577</td>\n",
       "      <td>353833091</td>\n",
       "      <td>2018-12-24 00:00:00</td>\n",
       "      <td>327685</td>\n",
       "      <td>56967</td>\n",
       "      <td>...</td>\n",
       "      <td>Dư nợ giảm dần cố định ngày đóng lãi</td>\n",
       "      <td>0</td>\n",
       "      <td>Khách hàng hiện đang quan hệ tại 2 TCTD, không có nợ cần chú ý và không có nợ xấu tại thời điểm cuối tháng 31/01/2019</td>\n",
       "      <td>NGUYỄN HOÀI DUY</td>\n",
       "      <td>40/8B,,TRẦN XUÂN SOẠN,TÂN THUẬN TÂY,QUẬN 7,TP HỒ CHÍ MINH</td>\n",
       "      <td>2019-03-17 11:57:59</td>\n",
       "      <td>2</td>\n",
       "      <td>2</td>\n",
       "      <td>0</td>\n",
       "      <td>0</td>\n",
       "    </tr>\n",
       "    <tr>\n",
       "      <th>2379</th>\n",
       "      <td>3182</td>\n",
       "      <td>3000000.0</td>\n",
       "      <td>3000000.0</td>\n",
       "      <td>3000000</td>\n",
       "      <td>2018-12-22</td>\n",
       "      <td>638</td>\n",
       "      <td>967295514</td>\n",
       "      <td>2018-12-22 00:00:00</td>\n",
       "      <td>329444</td>\n",
       "      <td>56835</td>\n",
       "      <td>...</td>\n",
       "      <td>Tất toán cuối kỳ</td>\n",
       "      <td>2</td>\n",
       "      <td>Khách hàng hiện đang quan hệ tại 2 TCTD, không có nợ cần chú ý và không có nợ xấu tại thời điểm cuối tháng 31/01/2019</td>\n",
       "      <td>TRẦN HÙNG MẠNH</td>\n",
       "      <td>.,.,TỔ 32,PHƯỜNG NGUYỄN PHÚC,YÊN BÁI,TỈNH YÊN BÁI</td>\n",
       "      <td>2019-03-17 11:52:36</td>\n",
       "      <td>2</td>\n",
       "      <td>2</td>\n",
       "      <td>0</td>\n",
       "      <td>0</td>\n",
       "    </tr>\n",
       "    <tr>\n",
       "      <th>2380</th>\n",
       "      <td>3184</td>\n",
       "      <td>6000000.0</td>\n",
       "      <td>6000000.0</td>\n",
       "      <td>0</td>\n",
       "      <td>2018-12-27</td>\n",
       "      <td>605</td>\n",
       "      <td>385669091</td>\n",
       "      <td>2018-12-27 00:00:00</td>\n",
       "      <td>333862</td>\n",
       "      <td>57212</td>\n",
       "      <td>...</td>\n",
       "      <td>Tất toán cuối kỳ</td>\n",
       "      <td>0</td>\n",
       "      <td>Khách hàng hiện đang quan hệ tại 1 TCTD, không có nợ cần chú ý và không có nợ xấu tại thời điểm cuối tháng 31/01/2019</td>\n",
       "      <td>LUU VAN HANG</td>\n",
       "      <td>THANH NGHI, THANH XUAN, HA NOI</td>\n",
       "      <td>2019-03-17 11:43:43</td>\n",
       "      <td>1</td>\n",
       "      <td>1</td>\n",
       "      <td>0</td>\n",
       "      <td>0</td>\n",
       "    </tr>\n",
       "    <tr>\n",
       "      <th>2381</th>\n",
       "      <td>3187</td>\n",
       "      <td>7000000.0</td>\n",
       "      <td>6000000.0</td>\n",
       "      <td>0</td>\n",
       "      <td>2019-01-10</td>\n",
       "      <td>597</td>\n",
       "      <td>869625266</td>\n",
       "      <td>2019-01-10 00:00:00</td>\n",
       "      <td>348341</td>\n",
       "      <td>57938</td>\n",
       "      <td>...</td>\n",
       "      <td>Dư nợ giảm dần cố định ngày đóng lãi</td>\n",
       "      <td>0</td>\n",
       "      <td>Khách hàng hiện đang quan hệ tại 2 TCTD, không có nợ cần chú ý và không có nợ xấu tại thời điểm cuối tháng 31/01/2019</td>\n",
       "      <td>NGUYỄN VĂN TRỌNG</td>\n",
       "      <td>THÔN LUẬT NGOẠI 2 - XÃ QUANG LỊCH</td>\n",
       "      <td>2019-03-17 10:47:41</td>\n",
       "      <td>2</td>\n",
       "      <td>2</td>\n",
       "      <td>0</td>\n",
       "      <td>0</td>\n",
       "    </tr>\n",
       "    <tr>\n",
       "      <th>2382</th>\n",
       "      <td>3188</td>\n",
       "      <td>10000000.0</td>\n",
       "      <td>10000000.0</td>\n",
       "      <td>10000000</td>\n",
       "      <td>2019-01-13</td>\n",
       "      <td>548</td>\n",
       "      <td>383429652</td>\n",
       "      <td>2019-01-13 00:00:00</td>\n",
       "      <td>351190</td>\n",
       "      <td>58148</td>\n",
       "      <td>...</td>\n",
       "      <td>Tất toán cuối kỳ</td>\n",
       "      <td>-3</td>\n",
       "      <td>NaN</td>\n",
       "      <td>NaN</td>\n",
       "      <td>NaN</td>\n",
       "      <td>2019-03-17 09:27:41</td>\n",
       "      <td>notfound</td>\n",
       "      <td>-1</td>\n",
       "      <td>0</td>\n",
       "      <td>0</td>\n",
       "    </tr>\n",
       "  </tbody>\n",
       "</table>\n",
       "<p>2383 rows × 49 columns</p>\n",
       "</div>"
      ],
      "text/plain": [
       "       STT  SoTienDKVayBanDau  TienGiaiNgan  SoTienConLai application_date  \\\n",
       "0        2         10000000.0           NaN             0       2023-02-30   \n",
       "1        3                NaN      250000.0             0       2016-07-28   \n",
       "2        4          5000000.0     5000000.0        -50000       2016-06-29   \n",
       "3        5         10000000.0    10000000.0             0       2016-06-29   \n",
       "4        6         10000000.0    10000000.0             0       2016-08-05   \n",
       "...    ...                ...           ...           ...              ...   \n",
       "2378  3181          5000000.0     5000000.0       3474831       2018-12-24   \n",
       "2379  3182          3000000.0     3000000.0       3000000       2018-12-22   \n",
       "2380  3184          6000000.0     6000000.0             0       2018-12-27   \n",
       "2381  3187          7000000.0     6000000.0             0       2019-01-10   \n",
       "2382  3188         10000000.0    10000000.0      10000000       2019-01-13   \n",
       "\n",
       "      TS_CREDIT_SCORE_V2 Số điện thoại khách hàng             FromDate  \\\n",
       "0                    403                977966899  2016-06-24 00:00:00   \n",
       "1                    403                977966899  2016-07-28 00:00:00   \n",
       "2                    531                397511119  2016-06-29 00:00:00   \n",
       "3                    588               abc1234567  2016-06-29 00:00:00   \n",
       "4                    675                966710180  2016-08-05 00:00:00   \n",
       "...                  ...                      ...                  ...   \n",
       "2378                 577                353833091  2018-12-24 00:00:00   \n",
       "2379                 638                967295514  2018-12-22 00:00:00   \n",
       "2380                 605                385669091  2018-12-27 00:00:00   \n",
       "2381                 597                869625266  2019-01-10 00:00:00   \n",
       "2382                 548                383429652  2019-01-13 00:00:00   \n",
       "\n",
       "          ID  LoanID  ...                   InterestPaymentType  \\\n",
       "0         40   16104  ...                              Lãi ngày   \n",
       "1        226   20871  ...                              Lãi ngày   \n",
       "2         45   17049  ...                              Lãi ngày   \n",
       "3         48   17067  ...                              Lãi ngày   \n",
       "4        293   22390  ...                              Lãi ngày   \n",
       "...      ...     ...  ...                                   ...   \n",
       "2378  327685   56967  ...  Dư nợ giảm dần cố định ngày đóng lãi   \n",
       "2379  329444   56835  ...                      Tất toán cuối kỳ   \n",
       "2380  333862   57212  ...                      Tất toán cuối kỳ   \n",
       "2381  348341   57938  ...  Dư nợ giảm dần cố định ngày đóng lãi   \n",
       "2382  351190   58148  ...                      Tất toán cuối kỳ   \n",
       "\n",
       "      LongestOverdue  \\\n",
       "0                  4   \n",
       "1                147   \n",
       "2                  3   \n",
       "3                 16   \n",
       "4                  8   \n",
       "...              ...   \n",
       "2378               0   \n",
       "2379               2   \n",
       "2380               0   \n",
       "2381               0   \n",
       "2382              -3   \n",
       "\n",
       "                                                                                                                   CreditInfo  \\\n",
       "0                                                                                                                         NaN   \n",
       "1                                                                                                                         NaN   \n",
       "2     Khách hàng hiện không có quan hệ tại TCTD, không có nợ cần chú ý và không có nợ xấu tại thời điểm cuối tháng 31/01/2019   \n",
       "3     Khách hàng hiện không có quan hệ tại TCTD, không có nợ cần chú ý và không có nợ xấu tại thời điểm cuối tháng 31/01/2019   \n",
       "4     Khách hàng hiện không có quan hệ tại TCTD, không có nợ cần chú ý và không có nợ xấu tại thời điểm cuối tháng 31/01/2019   \n",
       "...                                                                                                                       ...   \n",
       "2378    Khách hàng hiện đang quan hệ tại 2 TCTD, không có nợ cần chú ý và không có nợ xấu tại thời điểm cuối tháng 31/01/2019   \n",
       "2379    Khách hàng hiện đang quan hệ tại 2 TCTD, không có nợ cần chú ý và không có nợ xấu tại thời điểm cuối tháng 31/01/2019   \n",
       "2380    Khách hàng hiện đang quan hệ tại 1 TCTD, không có nợ cần chú ý và không có nợ xấu tại thời điểm cuối tháng 31/01/2019   \n",
       "2381    Khách hàng hiện đang quan hệ tại 2 TCTD, không có nợ cần chú ý và không có nợ xấu tại thời điểm cuối tháng 31/01/2019   \n",
       "2382                                                                                                                      NaN   \n",
       "\n",
       "                  Name  \\\n",
       "0                  NaN   \n",
       "1                  NaN   \n",
       "2       DAO CONG QUYET   \n",
       "3        NGUYEN ANH VU   \n",
       "4        ĐÀO NGỌC LINH   \n",
       "...                ...   \n",
       "2378   NGUYỄN HOÀI DUY   \n",
       "2379    TRẦN HÙNG MẠNH   \n",
       "2380      LUU VAN HANG   \n",
       "2381  NGUYỄN VĂN TRỌNG   \n",
       "2382               NaN   \n",
       "\n",
       "                                                        Address  \\\n",
       "0                                                           NaN   \n",
       "1                                                           NaN   \n",
       "2                             P203-E9 PHUONG MAI,DONG DA,HA NOI   \n",
       "3           SO 21 NGACH 77/4 LE HONG PHONG-DIEN BIEN-BA DINH-HN   \n",
       "4      -, TT CỤC KHÍ TƯỢNG THỦY VĂN, TRUNG LIỆT, Q.ĐỐNG ĐA, HNO   \n",
       "...                                                         ...   \n",
       "2378  40/8B,,TRẦN XUÂN SOẠN,TÂN THUẬN TÂY,QUẬN 7,TP HỒ CHÍ MINH   \n",
       "2379          .,.,TỔ 32,PHƯỜNG NGUYỄN PHÚC,YÊN BÁI,TỈNH YÊN BÁI   \n",
       "2380                             THANH NGHI, THANH XUAN, HA NOI   \n",
       "2381                          THÔN LUẬT NGOẠI 2 - XÃ QUANG LỊCH   \n",
       "2382                                                        NaN   \n",
       "\n",
       "                CheckTime    Brieft NumberOfLoans HasBadDebt HasLatePayment  \n",
       "0     2019-03-17 11:22:15  notfound            -1          0              0  \n",
       "1     2019-03-17 11:22:15  notfound            -1          0              0  \n",
       "2     2019-03-17 08:29:24         0             0          0              0  \n",
       "3     2019-03-17 08:28:09         0             0          0              0  \n",
       "4     2019-03-17 14:14:22         0             0          0              0  \n",
       "...                   ...       ...           ...        ...            ...  \n",
       "2378  2019-03-17 11:57:59         2             2          0              0  \n",
       "2379  2019-03-17 11:52:36         2             2          0              0  \n",
       "2380  2019-03-17 11:43:43         1             1          0              0  \n",
       "2381  2019-03-17 10:47:41         2             2          0              0  \n",
       "2382  2019-03-17 09:27:41  notfound            -1          0              0  \n",
       "\n",
       "[2383 rows x 49 columns]"
      ]
     },
     "metadata": {},
     "output_type": "display_data"
    }
   ],
   "source": [
    "csv_file = 'Dataset/bankersData.csv'\n",
    "df = pd.read_csv(csv_file, encoding='UTF-8')\n",
    "display(df)"
   ]
  },
  {
   "cell_type": "code",
   "execution_count": 41,
   "metadata": {},
   "outputs": [],
   "source": [
    "for i in range(len(df)):\n",
    "    # Kiểm tra nếu WardName chỉ chứa số\n",
    "    if isinstance(df.loc[i, 'DistrictName'], str) and df.loc[i, 'DistrictName'].isdigit():\n",
    "        df.loc[i, 'DistrictName'] = \"Quận \" + df.loc[i, 'DistrictName']\n",
    "\n",
    "    if isinstance(df.loc[i, 'WardName'], str) and df.loc[i, 'WardName'].isdigit():\n",
    "        df.loc[i, 'WardName'] = \"Phường \" + df.loc[i, 'WardName']"
   ]
  },
  {
   "cell_type": "code",
   "execution_count": 42,
   "metadata": {},
   "outputs": [
    {
     "name": "stdout",
     "output_type": "stream",
     "text": [
      "Dictionary tự động tạo:\n",
      "{'Thanh Trì': 'Vĩnh Quỳnh', 'Nam Từ Liêm': 'Mỹ Đình 1', 'Cầu Giấy': 'Trung Hoà', 'Tây Hồ': 'Phú Thượng', 'Long Biên': 'Thượng Thanh', 'Hoàn Kiếm': 'Chương Dương Độ', 'Bắc Từ Liêm': 'Cổ Nhuế 1', 'Ba Đình': 'Ngọc Khánh', 'Hai Bà Trưng': 'Bạch Mai', 'Đống Đa': 'Trung Phụng', 'Hà Đông': 'Nguyễn Trãi', 'Thanh Xuân': 'Khương Trung', 'Bình Tân': 'Bình Hưng Hòa A', 'Phú Nhuận': 'Phường 3', 'Thủ Đức': 'Linh Xuân', 'Quận 9': 'Tăng Nhơn Phú B', 'Bình Thạnh': 'Phường 22', 'Hoàng Mai': 'Lĩnh Nam', 'Quận 12': 'Tân Chánh Hiệp', 'Gò Vấp': 'Phường 5', 'Quận 3': 'Phường 10'}\n",
      "{'Tân Triều': 'Thanh Trì', 'Xuân Phương': 'Nam Từ Liêm', 'Yên Hoà': 'Cầu Giấy', 'Tứ Liên': 'Tây Hồ', 'Ngọc Thuỵ': 'Long Biên', 'Phúc Tân': 'Hoàn Kiếm', 'Phú Diễn': 'Bắc Từ Liêm', 'Vĩnh Phúc': 'Ba Đình', 'Thanh Lương': 'Hai Bà Trưng', 'Tả Thanh Oai': 'Thanh Trì', 'Kim Liên': 'Đống Đa', 'Đồng Tâm': 'Hai Bà Trưng', 'Nam Đồng': 'Đống Đa', 'Kiến Hưng': 'Hà Đông', 'Hạ Đình': 'Thanh Xuân', 'Quỳnh Lôi': 'Hai Bà Trưng', 'Hàng Bột': 'Đống Đa', 'Đại Áng': 'Thanh Trì', 'Thạch Bàn': 'Long Biên', 'Yên Nghĩa': 'Hà Đông', 'Thịnh Quang': 'Đống Đa', 'Nghĩa Đô': 'Cầu Giấy', 'Binh Hưng Hoà B': 'Bình Tân', 'Mộ Lao': 'Hà Đông', 'Trương Định': 'Hai Bà Trưng', 'Phú Đô': 'Nam Từ Liêm', 'Thanh Xuân Nam': 'Thanh Xuân', 'Cát Linh': 'Đống Đa', 'Hà Cầu': 'Hà Đông', 'Phường 3': 'Phú Nhuận', 'Ngọc Hà': 'Ba Đình', 'Bình Chiểu': 'Thủ Đức', 'Thượng Đình': 'Thanh Xuân', 'Trường Thọ': 'Thủ Đức', 'Long Thạnh Mỹ': 'Quận 9', 'Láng Thượng': 'Đống Đa', 'Vĩnh Tuy': 'Hai Bà Trưng', 'Phương Liệt': 'Thanh Xuân', 'Phường 17': 'Bình Thạnh', 'Thanh Trì': 'Hoàng Mai', 'Trường Thạnh': 'Quận 9', 'Minh Khai': 'Bắc Từ Liêm', 'Hoàng Liệt': 'Hoàng Mai', 'An Phú Đông': 'Quận 12', 'Tân Chánh Hiệp': 'Quận 12', 'Đại Kim': 'Hoàng Mai', 'Phường 5': 'Gò Vấp', 'Mỹ Đình 2': 'Nam Từ Liêm', 'Đức Thắng': 'Bắc Từ Liêm', 'Sài Đồng': 'Long Biên', 'Khâm Thiên': 'Đống Đa', 'Tăng Nhơn Phú B': 'Quận 9', 'Phường 13': 'Bình Thạnh', 'Thanh Liệt': 'Thanh Trì', 'Mễ Trì': 'Nam Từ Liêm', 'Bình Hưng Hòa A': 'Bình Tân', 'Tây Tựu': 'Bắc Từ Liêm', 'Phường 22': 'Bình Thạnh', 'Khương Trung': 'Thanh Xuân', 'Tân Mai': 'Hoàng Mai', 'Phú Lương': 'Hà Đông', 'Nguyễn Trãi': 'Hà Đông', 'Linh Xuân': 'Thủ Đức', 'Ô Chợ Dừa': 'Đống Đa', 'Vĩnh Quỳnh': 'Thanh Trì', 'Bạch Mai': 'Hai Bà Trưng', 'Trung Văn': 'Nam Từ Liêm', 'Ngã Tư Sở': 'Đống Đa', 'Phường 10': 'Quận 3', 'Mỹ Đình 1': 'Nam Từ Liêm', 'Dịch Vọng Hậu': 'Cầu Giấy', 'Lĩnh Nam': 'Hoàng Mai', 'Thượng Thanh': 'Long Biên', 'Ngọc Khánh': 'Ba Đình', 'Thuỵ Phương': 'Bắc Từ Liêm', 'Cổ Nhuế 2': 'Bắc Từ Liêm', 'Chương Dương Độ': 'Hoàn Kiếm', 'Phú Thượng': 'Tây Hồ', 'Trung Phụng': 'Đống Đa', 'Cổ Nhuế 1': 'Bắc Từ Liêm', 'Trung Hoà': 'Cầu Giấy'}\n"
     ]
    }
   ],
   "source": [
    "# Chuyển chuỗi rỗng thành NaN\n",
    "df['WardName'] = df['WardName'].replace(\"\", None)\n",
    "\n",
    "# Tạo dictionary từ các giá trị không bị thiếu\n",
    "district_to_ward = df.dropna().drop_duplicates(subset=[\"DistrictName\", \"WardName\"]).set_index(\"DistrictName\")[\"WardName\"].to_dict()\n",
    "\n",
    "ward_to_district = df.dropna().drop_duplicates(subset= [\"WardName\", 'DistrictName']).set_index(\"WardName\")[\"DistrictName\"].to_dict()\n",
    "\n",
    "print(\"Dictionary tự động tạo:\")\n",
    "print(district_to_ward)\n",
    "print(ward_to_district)"
   ]
  },
  {
   "cell_type": "code",
   "execution_count": 43,
   "metadata": {},
   "outputs": [],
   "source": [
    "df['WardName'] = df['WardName'].fillna(df['DistrictName'].map(district_to_ward))\n",
    "\n",
    "df['DistrictName'] = df['DistrictName'].fillna(df['WardName'].map(ward_to_district))"
   ]
  },
  {
   "cell_type": "code",
   "execution_count": 44,
   "metadata": {},
   "outputs": [
    {
     "name": "stdout",
     "output_type": "stream",
     "text": [
      "Các hàng có giá trị thiếu ở cột 'WardName':\n",
      "Empty DataFrame\n",
      "Columns: [WardName, DistrictName]\n",
      "Index: []\n"
     ]
    }
   ],
   "source": [
    "df['WardName'] = df['WardName'].fillna(df['DistrictName'])\n",
    "\n",
    "# Lọc các hàng có giá trị thiếu ở cột 'WardName'\n",
    "missing_wardname_rows = df[df['DistrictName'].isnull()][['WardName', 'DistrictName']]\n",
    "\n",
    "# In kết quả\n",
    "print(\"Các hàng có giá trị thiếu ở cột 'WardName':\")\n",
    "print(missing_wardname_rows)"
   ]
  },
  {
   "cell_type": "code",
   "execution_count": 45,
   "metadata": {},
   "outputs": [
    {
     "name": "stdout",
     "output_type": "stream",
     "text": [
      "Dictionary tự động tạo:\n",
      "{'Hoàng Liệt': 'Hà Nội', 'Phương Mai': 'Hà Nội', 'Điện Biên': 'Hà Nội', 'Trung Liệt': 'Hà Nội', 'Trung Phụng': 'Hà Nội', 'Phúc La': 'Hà Nội', 'Định Công': 'Hà Nội', 'Trung Hoà': 'Hà Nội', 'Phúc Xá': 'Hà Nội', 'Minh Khai': 'Hà Nội', 'Bồ Đề': 'Hà Nội', 'Phú Lãm': 'Hà Nội', 'Xuân Phương': 'Hà Nội', 'Cổ Nhuế 2': 'Hà Nội', 'Thổ Quan': 'Hà Nội', 'Phú La': 'Hà Nội', 'Gia Thuỵ': 'Hà Nội', 'Dương Nội': 'Hà Nội', 'Thượng Đình': 'Hà Nội', 'Đức Giang': 'Hà Nội', 'Yên Phụ': 'Hà Nội', 'Tương Mai': 'Hà Nội', 'Cổ Nhuế 1': 'Hà Nội', 'Quỳnh Mai': 'Hà Nội', 'Yết Kiêu': 'Hà Nội', 'Hàng Gai': 'Hà Nội', 'Đồng Nhân': 'Hà Nội', 'Khương Mai': 'Hà Nội', 'Khương Đình': 'Hà Nội', 'Quang Trung': 'Hà Nội', 'Quốc Tử Giám': 'Hà Nội', 'Mễ Trì': 'Hà Nội', 'Nhân Chính': 'Hà Nội', 'Trương Định': 'Hà Nội', 'Phạm Đình Hổ': 'Hà Nội', 'Lý Thái Tổ': 'Hà Nội', 'Đống Mác': 'Hà Nội', 'Khương Trung': 'Hà Nội', 'Vĩnh Phúc': 'Hà Nội', 'Tả Thanh Oai': 'Hà Nội', 'Đông Lâm': 'Thái Bình', 'Nghĩa Đô': 'Hà Nội', 'Long Biên': 'Hà Nội', 'Kim Giang': 'Hà Nội', 'Thượng Mỗ': 'Hà Nội', 'An Khánh': 'Hà Nội', 'Vĩnh Hưng': 'Hà Nội', 'Thanh Xuân Bắc': 'Hà Nội', 'Thanh Xuân Nam': 'Hà Nội', 'Dịch Vọng Hậu': 'Hà Nội', 'Chương Dương Độ': 'Hà Nội', 'Nghĩa Tân': 'Hà Nội', 'Đội Cấn': 'Hà Nội', 'Nguyễn Trãi': 'Hà Nội', 'Tân Mai': 'Hà Nội', 'Thịnh Liệt': 'Hà Nội', 'Thanh Trì': 'Hà Nội', 'Hoàng Văn Thụ': 'Hà Nội', 'Tân Lập': 'Hà Nội', 'Tiền Phong': 'Thái Bình', 'Tây Mỗ': 'Hà Nội', 'Tân Triều': 'Hà Nội', 'Ngọc Hồi': 'Hà Nội', 'Yên Sở': 'Hà Nội', 'Quan Hoa': 'Hà Nội', 'Thuỵ Phương': 'Hà Nội', 'Trung Văn': 'Hà Nội', 'Bưởi': 'Hà Nội', 'Vân Hà': 'Hà Nội', 'Mai Đình': 'Hà Nội', 'Hàng Trống': 'Hà Nội', 'Minh Phú': 'Hà Nội', 'Hải Bối': 'Hà Nội', 'La Khê': 'Hà Nội', 'Lệ Chi': 'Hà Nội', 'Ô Chợ Dừa': 'Hà Nội', 'Thạch Bàn': 'Hà Nội', 'Mộ Lao': 'Hà Nội', 'Cống Vị': 'Hà Nội', 'Đa Tốn': 'Hà Nội', 'Văn Miếu': 'Hà Nội', 'Thượng Thanh': 'Hà Nội', 'Đại Kim': 'Hà Nội', 'Dịch Vọng': 'Hà Nội', 'Tứ Liên': 'Hà Nội', 'Mỹ Đình 1': 'Hà Nội', 'Mai Dịch': 'Hà Nội', 'Bạch Đằng': 'Hải Phòng', 'Mai Động': 'Hà Nội', 'Cát Linh': 'Hà Nội', 'Thanh Nhàn': 'Hà Nội', 'Vĩnh Ngọc': 'Hà Nội', 'Ngọc Lâm': 'Hà Nội', 'Hữu Nghị': 'Hòa Bình', 'Tứ Hiệp': 'Hà Nội', 'Xuân Đỉnh': 'Hà Nội', 'Việt Hùng': 'Hà Nội', 'Nam Hồng': 'Hà Nội', 'Xuân La': 'Hà Nội', 'Phương Liệt': 'Hà Nội', 'Kim Chung': 'Hà Nội', 'Tân Thịnh': 'Nam Định', 'Yên Hoà': 'Hà Nội', 'Đại Mỗ': 'Hà Nội', 'Trâu Quỳ': 'Hà Nội', 'Sủ Ngòi': 'Hòa Bình', 'Thanh Liệt': 'Hà Nội', 'Văn Điển': 'Hà Nội', 'Việt Hưng': 'Hà Nội', 'Nông Trường Trần Phú': 'Yên Bái', 'Ngọc Thuỵ': 'Hà Nội', 'Láng Thượng': 'Hà Nội', 'Yên Nghĩa': 'Nam Định', 'Kim Hoa': 'Hà Nội', 'Giáp Bát': 'Hà Nội', 'Cầu Dền': 'Hà Nội', 'Chuyên Mỹ': 'Hà Nội', 'Phú Diễn': 'Hà Nội', 'Vĩnh Tuy': 'Hà Nội', 'Liễu Giai': 'Hà Nội', 'Ngọc Khánh': 'Hà Nội', 'Tầm Xá': 'Hà Nội', 'Vạn Phúc': 'Hà Nội', 'Kim Mã': 'Hà Nội', 'Phúc Diễn': 'Hà Nội', 'Phương Lâm': 'Hòa Bình', 'Mỹ Đình 2': 'Hà Nội', 'Hàng Bồ': 'Hà Nội', 'Cổ Loa': 'Hà Nội', 'Phú Thị': 'Hà Nội', 'Dương Xá': 'Hà Nội', 'Yên Viên': 'Hà Nội', 'Đông Anh': 'Hà Nội', 'Quảng An': 'Hà Nội', 'Cẩm Thượng': 'Hải Dương', 'Thọ Sơn': 'Phú Thọ', 'Vĩnh Quỳnh': 'Hà Nội', 'Khai Quang': 'Vĩnh Phúc', 'Phương Canh': 'Hà Nội', 'Hội Hợp': 'Vĩnh Phúc', 'Kiêu Kỵ': 'Hà Nội', 'Xuân Tảo': 'Hà Nội', 'Ngọc Hà': 'Hà Nội', 'Tam Hiệp': 'Hà Nội', 'Võ Cường': 'Bắc Ninh', 'Kim Tân': 'Lào Cai', 'Gia Cẩm': 'Phú Thọ', 'Phan Chu Trinh': 'Hà Nội', 'Phú Sơn': 'Đồng Nai', 'Nông Trang': 'Phú Thọ', 'Ngọc Trạo': 'Thanh Hóa', 'Đông Khê': 'Hải Phòng', 'Kim Sơn': 'Hà Nội', 'Đồng Tâm': 'Hà Nội', 'Thanh Lương': 'Hà Nội', 'Trường Thi': 'Thanh Hóa', 'Giang Biên': 'Hà Nội', 'Đặng Xá': 'Hà Nội', 'Tràng Tiền': 'Hà Nội', 'Liên Ninh': 'Hà Nội', 'Vân Cơ': 'Phú Thọ', 'Phú Thượng': 'Hà Nội', 'Vân Phú': 'Phú Thọ', 'Thạch Đà': 'Hà Nội', 'Văn Khê': 'Hà Nội', 'Duyên Hà': 'Hà Nội', 'Ngô Thì Nhậm': 'Hà Nội', 'Hợp Giang': 'Cao Bằng', 'Đông Mỹ': 'Hà Nội', 'Đồng Xuân': 'Hà Nội', 'Chu Phan': 'Hà Nội', 'Phú Lương': 'Hà Nội', 'Bạch Mai': 'Hà Nội', 'Láng Hạ': 'Hà Nội', 'Đông Hương': 'Thanh Hóa', 'Cửa Đông': 'Hà Nội', 'Yên Thường': 'Hà Nội', 'Đông Ngạc': 'Hà Nội', 'Hạ Đình': 'Hà Nội', 'Yên Phú': 'Nam Định', 'Phương Liên': 'Hà Nội', 'Đức Thắng': 'Hà Nội', 'Cự Khối': 'Hà Nội', 'Nam Đồng': 'Hà Nội', 'Sài Đồng': 'Hà Nội', '11': 'Hồ Chí Minh', 'Hàng Buồm': 'Hà Nội', 'Hữu Hoà': 'Hà Nội', 'Trung Tự': 'Hà Nội', 'Sơn Đà': 'Hà Nội', 'Dữu Lâu': 'Phú Thọ', 'Tiên Cát': 'Phú Thọ', 'Kiến Hưng': 'Hà Nội', 'Hàng Bột': 'Hà Nội', 'Nhật Tân': 'Hà Nội', 'Phúc Đồng': 'Hà Nội', 'Phúc Tân': 'Hà Nội', 'Kbang': 'Gia Lai', 'Văn Chương': 'Hà Nội', 'Biên Giang': 'Hà Nội', 'Phú Đô': 'Hà Nội', 'Thịnh Quang': 'Hà Nội', 'Phúc Lợi': 'Hà Nội', 'Quỳnh Lôi': 'Hà Nội', 'Lĩnh Nam': 'Hà Nội', 'Đồng Mai': 'Hà Nội', 'Ngũ Hiệp': 'Hà Nội', 'Ngã Tư Sở': 'Hà Nội', 'Văn Quán': 'Hà Nội', 'Nguyễn Trung Trực': 'Hà Nội', 'Thanh Xuân Trung': 'Hà Nội', 'Bách Khoa': 'Hà Nội', 'Kim Liên': 'Hà Nội', 'Lê Đại Hành': 'Hà Nội', 'Giảng Võ': 'Hà Nội', 'Hàng Bạc': 'Hà Nội', 'Nam Sơn': 'Hà Nội', 'Yên Mỹ': 'Thanh Hóa', 'Trúc Bạch': 'Hà Nội', 'Đức Bác': 'Vĩnh Phúc', 'Nguyễn Du': 'Hà Nội', 'Hòa Bình': 'Bạc Liêu', 'Phố Mới': 'Lào Cai', 'Quốc Tuấn': 'Hải Phòng', 'Minh Sơn': 'Nghệ An', 'Quỳnh Nguyên': 'Thái Bình', 'Cô Giang': 'Hồ Chí Minh', '1': 'Quảng Trị', '13': 'Hồ Chí Minh', 'Thành Công': 'Hà Nội', '4': 'Hồ Chí Minh', '9': 'Hồ Chí Minh', 'Hà Cầu': 'Hà Nội', 'Thanh Hà': 'Hà Nam', 'Quang Hưng': 'Thái Bình', 'Khương Thượng': 'Hà Nội', 'Thái Nguyên': 'Thái Bình', '5': 'Tiền Giang', 'Mỹ Đức Tây': 'Tiền Giang', 'Tân Phước': 'Bình Phước', '25': 'Hồ Chí Minh', 'Đông Quí': 'Thái Bình', '6': 'Hồ Chí Minh', 'Thuỵ Khuê': 'Hà Nội', '8': 'Hồ Chí Minh', 'Thiệu Viên': 'Thanh Hóa', '14': 'Hồ Chí Minh', 'Tân Trào': 'Hải Dương', 'Phạm Ngũ Lão': 'Hồ Chí Minh', 'Bình Hưng Hòa A': 'Hồ Chí Minh', '12': 'Hồ Chí Minh', 'Võ Miếu': 'Phú Thọ', 'Nam Dương': 'Bắc Giang', 'Ngọc Mỹ': 'Hà Nội', '22': 'Hồ Chí Minh', 'Tăng Tiến': 'Bắc Giang', '10': 'Hồ Chí Minh', 'Quán Thánh': 'Hà Nội', 'Phú Thạnh': 'Phú Yên', 'Hiệp Bình Phước': 'Hồ Chí Minh', 'Tây Giang': 'Thái Bình', 'Thảo Điền': 'Hồ Chí Minh', 'Củ Chi': 'Hồ Chí Minh', '3': 'Đồng Tháp', 'Long Thới': 'Hồ Chí Minh', 'Nguyễn Cư Trinh': 'Hồ Chí Minh', 'Minh Cường': 'Hà Nội', 'Tam Quan Bắc': 'Bình Định', 'Phạm Văn Hai': 'Hồ Chí Minh', '2': 'Hồ Chí Minh', '28': 'Hồ Chí Minh', 'Linh Trung': 'Hồ Chí Minh', 'Phố Huế': 'Hà Nội', '7': 'Hồ Chí Minh', 'Diêm Điền': 'Thái Bình', 'An Nhơn Tây': 'Hồ Chí Minh', 'Trung Tú': 'Hà Nội', 'Lương Phong': 'Bắc Giang', '15': 'Hồ Chí Minh', 'Đông Ninh': 'Hưng Yên', 'Cầu Kho': 'Hồ Chí Minh', 'Duyên Thái': 'Hà Nội', 'Tân Quý': 'Hồ Chí Minh', 'Giao Phong': 'Nam Định', 'Bình Trị Đông': 'Hồ Chí Minh', 'An Phú Đông': 'Hồ Chí Minh', 'Bình Chiểu': 'Hồ Chí Minh', 'Thượng Trưng': 'Vĩnh Phúc', 'Phú Trung': 'Hồ Chí Minh', 'Hoà Thạnh': 'Hồ Chí Minh', 'Tân Phú': 'Cà Mau', 'Núi Sập': 'An Giang', 'Phước Long B': 'Hồ Chí Minh', 'Thạnh Lộc': 'Hồ Chí Minh', 'Bình Thuận': 'Hồ Chí Minh', 'Tân Tạo': 'Hồ Chí Minh', 'Linh Chiểu': 'Hồ Chí Minh', 'Tân Thạnh Đông': 'Hồ Chí Minh', 'Thành Lợi': 'Vĩnh Long', 'Tiến Thịnh': 'Hà Nội', 'Đa Kao': 'Hồ Chí Minh', 'Cầu Diễn': 'Hà Nội', 'Thanh Lâm': 'Hà Nội', 'Uy Nỗ': 'Hà Nội', 'Dục Tú': 'Hà Nội', 'Hàng Bài': 'Hà Nội', 'Quỳnh Tân': 'Nghệ An', 'Yên Bài': 'Hà Nội', 'Hạ Mỗ': 'Hà Nội', 'Đại Áng': 'Hà Nội', 'Bình Trị Đông B': 'Hồ Chí Minh', 'Thới Tam Thôn': 'Hồ Chí Minh', 'Đan Phượng': 'Hà Nội', '24': 'Hồ Chí Minh', 'Hưng Long': 'Hồ Chí Minh', 'Bình Hưng Hòa': 'Hồ Chí Minh', 'Sóc Sơn': 'Hà Nội', 'Khâm Thiên': 'Hà Nội', 'Trung Lập Hạ': 'Hồ Chí Minh', 'Mai Lâm': 'Hà Nội', 'Yên Trung': 'Nam Định', 'Quang Tiến': 'Hà Nội', 'Phụng Châu': 'Hà Nội', 'Kinh Kệ': 'Phú Thọ', 'Tân Xuân': 'Hồ Chí Minh', 'Hiền Ninh': 'Hà Nội', 'Cửa Nam': 'Hà Nội', 'Song Phương': 'Hà Nội', 'Bình Trị Đông A': 'Hồ Chí Minh', 'Bình An': 'Hồ Chí Minh', '26': 'Hồ Chí Minh', 'Nguyên Khê': 'Hà Nội', 'Tốt Động': 'Hà Nội', 'Tân Thới Hiệp': 'Hồ Chí Minh', 'Hóc Môn': 'Hồ Chí Minh', 'Phù Linh': 'Hà Nội', 'Vạn Thắng': 'Hà Nội', 'Hàng Mã': 'Hà Nội', 'Ngô Quyền': 'Bắc Giang', 'Cổ Bi': 'Hà Nội', 'Hồng Hà': 'Hà Nội', 'Xuân Nộn': 'Hà Nội', 'Vân Canh': 'Hà Nội', 'Việt Long': 'Hà Nội', 'Tiên Dương': 'Hà Nội', 'Nghĩa Đạo': 'Bắc Ninh', 'Nhị Khê': 'Hà Nội', 'Thắng Lợi': 'Hà Nội', 'Hòa Long': 'Bắc Ninh', 'Thụy An': 'Hà Nội', 'Đường Lâm': 'Hà Nội', 'Thọ An': 'Hà Nội', 'Thụy Hương': 'Hà Nội', 'Quốc Oai': 'Hà Nội', 'Thượng Cát': 'Hà Nội', 'Trần Quang Khải': 'Nam Định', 'Lam Điền': 'Hà Nội', 'Vĩnh Trạch': 'An Giang', 'Trung Hưng': 'Hà Nội', 'Minh Trí': 'Hà Nội', 'Lam Sơn': 'Thanh Hóa', 'Lê Lợi': 'Hà Nội', 'Phù Lỗ': 'Hà Nội', 'Tân Kiểng': 'Hồ Chí Minh', 'Trực Thắng': 'Nam Định', 'Gia Phú': 'Ninh Bình', 'Quảng Tiến': 'Thanh Hóa', 'Minh Thắng': 'Bình Phước', 'Xuân Hồng': 'Nam Định', 'Định Hải': 'Thanh Hóa', 'Phú Khánh': 'Thái Bình', 'Tân Định': 'Hồ Chí Minh', 'Xuân Thiên': 'Thanh Hóa', 'Quảng Trung': 'Thanh Hóa', 'Quảng Phú Cầu': 'Hà Nội', 'Hải Châu': 'Nam Định', 'Thiệu Vận': 'Thanh Hóa', 'Trần Phú': 'Hà Nội', 'Binh Hưng Hoà B': 'Hồ Chí Minh', 'Đức Thuận': 'Bình Thuận', 'Đồng Luận': 'Phú Thọ', 'Nam Hải': 'Nam Định', 'Tân Kim': 'Thái Nguyên', 'Long Giang': 'An Giang', 'Đại Lộc': 'Thanh Hóa', 'Tiêu Động': 'Hà Nam', 'Hà Trung': 'Thanh Hóa', 'Cẩm Sơn': 'Quảng Ninh', 'Sông Thao': 'Phú Thọ', 'Hoa Sơn': 'Hà Nội', '16': 'Hồ Chí Minh', 'Tân Sơn Nhì': 'Hồ Chí Minh', 'Đại Thắng': 'Hà Nội', 'Ngọc Chúc': 'Kiên Giang', 'Tân Sỏi': 'Bắc Giang', 'Công Thành': 'Nghệ An', 'Mông Hóa': 'Hòa Bình', 'Yên Phong': 'Nam Định', 'Bằng An': 'Bắc Ninh', 'Phước Minh': 'Bình Phước', 'Đào Xá': 'Phú Thọ', 'Quỳnh Văn': 'Nghệ An', 'Đồng Văn': 'Nghệ An', 'Kim Chính': 'Ninh Bình', 'Song Phú': 'Vĩnh Long', 'Xuân Đông': 'Đồng Nai', 'Tân Chánh Hiệp': 'Hồ Chí Minh', 'Thọ Lộc': 'Thanh Hóa', 'Long Thạnh Mỹ': 'Hồ Chí Minh', 'Vật Lại': 'Hà Nội', 'Phúc Sơn': 'Tuyên Quang', 'Phúc Yên': 'Tuyên Quang', 'Tân Thới Nhất': 'Hồ Chí Minh', 'Phước Long': 'Bạc Liêu', 'Mỹ Tịnh An': 'Tiền Giang', 'Ngọc Thiện': 'Bắc Giang', 'Thạnh Xuân': 'Hồ Chí Minh', 'Nghèn': 'Hà Tĩnh', 'Bần Yên Nhân': 'Hưng Yên', 'Yển Khê': 'Phú Thọ', 'Hợp Thanh': 'Hà Nội', 'Vị Xuyên': 'Nam Định', 'Liễu Đề': 'Nam Định', 'Chi Lăng': 'Lạng Sơn', 'Chăm Mát': 'Hòa Bình', 'Quế Tân': 'Bắc Ninh', 'Trung Nguyên': 'Vĩnh Phúc', 'Thanh Hương': 'Hà Nam', 'Vạn Hoà': 'Lào Cai', 'Long Thuận': 'Đồng Tháp', 'Trấn Yên': 'Lạng Sơn', 'Bình Tân': 'Quảng Ngãi', 'Minh Tân': 'Hà Nội', 'Dân Quyền': 'Thanh Hóa', 'Yên Cường': 'Nam Định', 'Hải Long': 'Nam Định', 'Thái Sơn': 'Thái Bình', 'Ea Sol': 'Đắk Lắk', 'Cẩm Hưng': 'Hải Dương', 'Mường Sang': 'Sơn La', 'Phúc Thuận': 'Thái Nguyên', 'Lương Lỗ': 'Phú Thọ', 'Đức Hợp': 'Hưng Yên', 'Kim Quan': 'Hà Nội', 'Yên Thái': 'Ninh Bình', 'Thụy Sơn': 'Thái Bình', 'Cam Thượng': 'Hà Nội', 'Mỹ An': 'Đồng Tháp', 'Sơn Kỳ': 'Hồ Chí Minh', 'Xuân Thiện': 'Ninh Bình', 'Kiện Khê': 'Hà Nam', 'Ninh Phong': 'Ninh Bình', 'Trung Hòa': 'Hà Nội', 'Thọ Xuân': 'Thanh Hóa', 'Bãi Sậy': 'Hưng Yên', 'Thái Dương': 'Hải Dương', 'Nam Trung': 'Thái Bình', 'Nguyễn Thị Minh Khai': 'Bắc Kạn', 'Vĩnh Hiệp': 'Sóc Trăng', 'Nam Cường': 'Yên Bái', 'Yên Lạc': 'Vĩnh Phúc', 'Thái Phúc': 'Thái Bình', 'Hương Sơn': 'Thái Nguyên', 'Đông Hòa': 'Tiền Giang', 'Phúc Thịnh': 'Tuyên Quang', 'Xuân Thủy': 'Nam Định', 'Mũi Né': 'Bình Thuận', 'Hòa Phong': 'Hưng Yên', 'Tân Tạo A': 'Hồ Chí Minh', 'Vĩnh Sơn': 'Quảng Trị', 'Hiệp Bình Chánh': 'Hồ Chí Minh', 'Vệ An': 'Bắc Ninh', 'Viên Nội': 'Hà Nội', 'Trần Văn Thời': 'Cà Mau', 'Mỹ Đức': 'Hải Phòng', 'Xuân Lâm': 'Bắc Ninh', 'Đoan Hạ': 'Phú Thọ', 'Hoà Lạc': 'Quảng Ninh', 'Lam Cốt': 'Bắc Giang', 'Phú Hữu': 'An Giang', 'Đồng Ích': 'Vĩnh Phúc', 'Thanh Văn': 'Nghệ An', 'Hàng Bông': 'Hà Nội', 'Tân Tuyến': 'An Giang', 'Hàng Đào': 'Hà Nội', 'Ba Trại': 'Hà Nội', '17': 'Hồ Chí Minh', 'Lạc Hòa': 'Sóc Trăng', 'Vĩnh Quang': 'Bình Định', 'Đức Hiệp': 'Quảng Ngãi', 'Phúc Thọ': 'Hà Nội', 'Duy Hải': 'Hà Nam', 'Lộc Sơn': 'Lâm Đồng', 'Bình Mỹ': 'Hà Nam', 'Giao Châu': 'Nam Định', 'Hồng Hải': 'Quảng Ninh', 'Mỹ Lộc': 'Thanh Hóa', 'Thanh Giang': 'Hải Dương', 'Ninh Phụng': 'Khánh Hòa', 'Hưng Hòa': 'Bình Dương', 'Dị Chế': 'Hưng Yên', 'Đại Đồng Thành': 'Bắc Ninh', 'Sa Pa': 'Lào Cai', 'Chánh An': 'Vĩnh Long', 'Xuân Quang': 'Lào Cai', 'Giao Thiện': 'Nam Định', 'Thọ Ngọc': 'Thanh Hóa', 'Vị Thanh': 'Hậu Giang', 'Nam Thịnh': 'Thái Bình', 'Trung Thành': 'Thanh Hóa', 'Phước Long A': 'Hồ Chí Minh', 'Cẩm Bình': 'Thanh Hóa', 'Hải Tiến': 'Quảng Ninh', 'Thanh Phú Long': 'Long An', 'Cốc Pài': 'Hà Giang', 'Đắk Mil': 'Đắk Nông', 'Hưng Nguyên': 'Nghệ An', 'Xuân Lập': 'Đồng Nai', 'Hòa Phú': 'Tuyên Quang', 'Nghĩa Phú': 'Nam Định', 'Nghĩa Thái': 'Nam Định', 'Cẩm Lĩnh': 'Hà Nội', 'An Thạnh Thủy': 'Tiền Giang', 'Nghĩa Sơn': 'Quảng Ngãi', 'Long Bình': 'Tiền Giang', 'Trần Hưng Đạo': 'Quảng Ngãi', 'Hòa Thành': 'Đồng Tháp', 'Tam Quan': 'Bình Định', 'Minh Tiến': 'Phú Thọ', 'Quảng Thủy': 'Quảng Bình', '21': 'Hồ Chí Minh', 'Thạnh Trị': 'Bến Tre', 'Xuân Hải': 'Ninh Thuận', 'Phú Xuyên': 'Hà Nội', 'An Mỹ': 'Sóc Trăng', 'Trung An': 'Vĩnh Long', 'Tân Thắng': 'Bình Thuận', 'Vĩnh Hùng': 'Thanh Hóa', 'Vĩnh Hòa': 'Bến Tre', 'Đắk Mar': 'Kon Tum', 'An Phú': 'Hồ Chí Minh', 'Gò Dầu': 'Tây Ninh', 'Ngư Lộc': 'Thanh Hóa', 'Bình Giang': 'Kiên Giang', 'Hồng Minh': 'Hà Nội', 'Kinh Cùng': 'Hậu Giang', 'Đức Thủy': 'Hà Tĩnh', 'Ngọc Sơn': 'Nghệ An', 'Thanh Sơn': 'Phú Thọ', 'Xuân Hóa': 'Quảng Bình', 'Vạn Xuân': 'Thanh Hóa', 'Xuân Canh': 'Hà Nội', 'Linh Đông': 'Hồ Chí Minh', 'Ninh Hòa': 'Ninh Bình', 'An Hòa': 'Tây Ninh', 'Huy Khiêm': 'Bình Thuận', 'Diễn Thọ': 'Nghệ An', 'Quỳnh Long': 'Nghệ An', 'Thạnh Ngãi': 'Bến Tre', 'Biển Bạch': 'Cà Mau', 'Hiệp Phú': 'Hồ Chí Minh', 'Ân Thi': 'Hưng Yên', 'Đội Bình': 'Hà Nội', 'Quỳnh Giao': 'Thái Bình', 'Tân Phong': 'Hải Dương', 'Liên Mạc': 'Hà Nội', 'Cát Lâm': 'Bình Định', 'Nam Thắng': 'Nam Định', 'Hải Trung': 'Nam Định', 'Xuy Xá': 'Hà Nội', 'Đại Cường': 'Hà Nội', 'Đông Cơ': 'Thái Bình', 'Quế Lâm': 'Phú Thọ', 'Thác Bà': 'Yên Bái', 'Trù Hựu': 'Bắc Giang', 'Bình Xa': 'Tuyên Quang', 'Thới Hòa': 'Vĩnh Long', 'Quang Lịch': 'Thái Bình', 'Thái Học': 'Hải Dương', 'Vĩnh Thịnh': 'Vĩnh Phúc', 'Tân Ninh': 'Quảng Bình', 'Phú Điền': 'Đồng Nai', 'Quảng Trạch': 'Quảng Bình', 'Quảng Cư': 'Sầm Sơn'}\n",
      "{'Hoàng Liệt': 'Hoàng Mai', 'Phương Mai': 'Đống Đa', 'Điện Biên': 'Ba Đình', 'Trung Liệt': 'Đống Đa', 'Trung Phụng': 'Đống Đa', 'Phúc La': 'Hà Đông', 'Định Công': 'Hoàng Mai', 'Trung Hoà': 'Cầu Giấy', 'Phúc Xá': 'Cầu Giấy', 'Minh Khai': 'Hai Bà Trưng', 'Bồ Đề': 'Long Biên', 'Phú Lãm': 'Hà Đông', 'Xuân Phương': 'Nam Từ Liêm', 'Cổ Nhuế 2': 'Bắc Từ Liêm', 'Thổ Quan': 'Đống Đa', 'Phú La': 'Hà Đông', 'Gia Thuỵ': 'Long Biên', 'Dương Nội': 'Hà Đông', 'Thượng Đình': 'Thanh Xuân', 'Đức Giang': 'Long Biên', 'Yên Phụ': 'Tây Hồ', 'Tương Mai': 'Hoàng Mai', 'Cổ Nhuế 1': 'Bắc Từ Liêm', 'Quỳnh Mai': 'Hai Bà Trưng', 'Yết Kiêu': 'Hà Đông', 'Hàng Gai': 'Hoàn Kiếm', 'Đồng Nhân': 'Hai Bà Trưng', 'Khương Mai': 'Thanh Xuân', 'Khương Đình': 'Thanh Xuân', 'Quang Trung': 'Sơn Tây', 'Quốc Tử Giám': 'Đống Đa', 'Mễ Trì': 'Nam Từ Liêm', 'Nhân Chính': 'Thanh Xuân', 'Trương Định': 'Hai Bà Trưng', 'Phạm Đình Hổ': 'Hai Bà Trưng', 'Lý Thái Tổ': 'Hoàn Kiếm', 'Đống Mác': 'Hai Bà Trưng', 'Khương Trung': 'Thanh Xuân', 'Vĩnh Phúc': 'Ba Đình', 'Tả Thanh Oai': 'Thanh Trì', 'Đông Lâm': 'Tiền Hải', 'Nghĩa Đô': 'Cầu Giấy', 'Long Biên': 'Long Biên', 'Kim Giang': 'Thanh Xuân', 'Thượng Mỗ': 'Đan Phượng', 'An Khánh': 'Hoài Đức', 'Vĩnh Hưng': 'Hoàng Mai', 'Thanh Xuân Bắc': 'Thanh Xuân', 'Thanh Xuân Nam': 'Thanh Xuân', 'Dịch Vọng Hậu': 'Cầu Giấy', 'Chương Dương Độ': 'Hoàn Kiếm', 'Nghĩa Tân': 'Cầu Giấy', 'Đội Cấn': 'Ba Đình', 'Nguyễn Trãi': 'Hà Đông', 'Tân Mai': 'Hoàng Mai', 'Thịnh Liệt': 'Hoàng Mai', 'Thanh Trì': 'Hoàng Mai', 'Hoàng Văn Thụ': 'Hoàng Mai', 'Tân Lập': 'Đan Phượng', 'Tiền Phong': 'Thái Bình', 'Tây Mỗ': 'Nam Từ Liêm', 'Tân Triều': 'Thanh Trì', 'Ngọc Hồi': 'Thanh Trì', 'Yên Sở': 'Hoàng Mai', 'Quan Hoa': 'Cầu Giấy', 'Thuỵ Phương': 'Bắc Từ Liêm', 'Trung Văn': 'Nam Từ Liêm', 'Bưởi': 'Tây Hồ', 'Vân Hà': 'Đông Anh', 'Mai Đình': 'Sóc Sơn', 'Hàng Trống': 'Hoàn Kiếm', 'Minh Phú': 'Sóc Sơn', 'Hải Bối': 'Đông Anh', 'La Khê': 'Hà Đông', 'Lệ Chi': 'Gia Lâm', 'Ô Chợ Dừa': 'Đống Đa', 'Thạch Bàn': 'Long Biên', 'Mộ Lao': 'Hà Đông', 'Cống Vị': 'Ba Đình', 'Đa Tốn': 'Gia Lâm', 'Văn Miếu': 'Đống Đa', 'Thượng Thanh': 'Long Biên', 'Đại Kim': 'Hoàng Mai', 'Dịch Vọng': 'Cầu Giấy', 'Tứ Liên': 'Tây Hồ', 'Mỹ Đình 1': 'Nam Từ Liêm', 'Mai Dịch': 'Cầu Giấy', 'Bạch Đằng': 'Tiên Lãng', 'Mai Động': 'Hoàng Mai', 'Cát Linh': 'Đống Đa', 'Thanh Nhàn': 'Hai Bà Trưng', 'Vĩnh Ngọc': 'Đông Anh', 'Ngọc Lâm': 'Long Biên', 'Hữu Nghị': 'Hòa Bình', 'Tứ Hiệp': 'Thanh Trì', 'Xuân Đỉnh': 'Bắc Từ Liêm', 'Việt Hùng': 'Đông Anh', 'Nam Hồng': 'Đông Anh', 'Xuân La': 'Tây Hồ', 'Phương Liệt': 'Thanh Xuân', 'Kim Chung': 'Đông Anh', 'Tân Thịnh': 'Nam Trực', 'Yên Hoà': 'Cầu Giấy', 'Đại Mỗ': 'Nam Từ Liêm', 'Trâu Quỳ': 'Gia Lâm', 'Sủ Ngòi': 'Hòa Bình', 'Thanh Liệt': 'Thanh Trì', 'Văn Điển': 'Thanh Trì', 'Việt Hưng': 'Long Biên', 'Nông Trường Trần Phú': 'Văn Chấn', 'Ngọc Thuỵ': 'Long Biên', 'Láng Thượng': 'Đống Đa', 'Yên Nghĩa': 'Ý Yên', 'Kim Hoa': 'Mê Linh', 'Giáp Bát': 'Hoàng Mai', 'Cầu Dền': 'Hai Bà Trưng', 'Chuyên Mỹ': 'Phú Xuyên', 'Phú Diễn': 'Bắc Từ Liêm', 'Vĩnh Tuy': 'Hai Bà Trưng', 'Liễu Giai': 'Ba Đình', 'Ngọc Khánh': 'Ba Đình', 'Tầm Xá': 'Đông Anh', 'Vạn Phúc': 'Thanh Trì', 'Kim Mã': 'Ba Đình', 'Phúc Diễn': 'Bắc Từ Liêm', 'Phương Lâm': 'Hòa Bình', 'Mỹ Đình 2': 'Nam Từ Liêm', 'Hàng Bồ': 'Hoàn Kiếm', 'Cổ Loa': 'Đông Anh', 'Phú Thị': 'Gia Lâm', 'Dương Xá': 'Gia Lâm', 'Yên Viên': 'Gia Lâm', 'Đông Anh': 'Đông Anh', 'Quảng An': 'Tây Hồ', 'Cẩm Thượng': 'Hải Dương', 'Thọ Sơn': 'Việt Trì', 'Vĩnh Quỳnh': 'Thanh Trì', 'Khai Quang': 'Vĩnh Yên', 'Phương Canh': 'Nam Từ Liêm', 'Hội Hợp': 'Vĩnh Yên', 'Kiêu Kỵ': 'Gia Lâm', 'Xuân Tảo': 'Bắc Từ Liêm', 'Ngọc Hà': 'Ba Đình', 'Tam Hiệp': 'Thanh Trì', 'Võ Cường': 'Bắc Ninh', 'Kim Tân': 'Lào Cai', 'Gia Cẩm': 'Việt Trì', 'Phan Chu Trinh': 'Hoàn Kiếm', 'Phú Sơn': 'Tân Phú', 'Nông Trang': 'Việt Trì', 'Ngọc Trạo': 'Thanh Hóa', 'Đông Khê': 'Ngô Quyền', 'Kim Sơn': 'Gia Lâm', 'Đồng Tâm': 'Hai Bà Trưng', 'Thanh Lương': 'Hai Bà Trưng', 'Trường Thi': 'Thanh Hóa', 'Giang Biên': 'Long Biên', 'Đặng Xá': 'Gia Lâm', 'Tràng Tiền': 'Hoàn Kiếm', 'Liên Ninh': 'Thanh Trì', 'Vân Cơ': 'Việt Trì', 'Phú Thượng': 'Tây Hồ', 'Vân Phú': 'Việt Trì', 'Thạch Đà': 'Mê Linh', 'Văn Khê': 'Mê Linh', 'Duyên Hà': 'Thanh Trì', 'Ngô Thì Nhậm': 'Hai Bà Trưng', 'Hợp Giang': 'Cao Bằng', 'Đông Mỹ': 'Thanh Trì', 'Đồng Xuân': 'Hoàn Kiếm', 'Chu Phan': 'Mê Linh', 'Phú Lương': 'Hà Đông', 'Bạch Mai': 'Hai Bà Trưng', 'Láng Hạ': 'Đống Đa', 'Đông Hương': 'Thanh Hóa', 'Cửa Đông': 'Hoàn Kiếm', 'Yên Thường': 'Gia Lâm', 'Đông Ngạc': 'Bắc Từ Liêm', 'Hạ Đình': 'Thanh Xuân', 'Yên Phú': 'Ý Yên', 'Phương Liên': 'Đống Đa', 'Đức Thắng': 'Bắc Từ Liêm', 'Cự Khối': 'Long Biên', 'Nam Đồng': 'Đống Đa', 'Sài Đồng': 'Long Biên', '11': 'Tân Bình', 'Hàng Buồm': 'Hoàn Kiếm', 'Hữu Hoà': 'Thanh Trì', 'Trung Tự': 'Đống Đa', 'Sơn Đà': 'Ba Vì', 'Dữu Lâu': 'Việt Trì', 'Tiên Cát': 'Việt Trì', 'Kiến Hưng': 'Hà Đông', 'Hàng Bột': 'Đống Đa', 'Nhật Tân': 'Tây Hồ', 'Phúc Đồng': 'Long Biên', 'Phúc Tân': 'Hoàn Kiếm', 'Kbang': 'Kbang', 'Văn Chương': 'Đống Đa', 'Biên Giang': 'Hà Đông', 'Phú Đô': 'Nam Từ Liêm', 'Thịnh Quang': 'Đống Đa', 'Phúc Lợi': 'Long Biên', 'Quỳnh Lôi': 'Hai Bà Trưng', 'Lĩnh Nam': 'Hoàng Mai', 'Đồng Mai': 'Hà Đông', 'Ngũ Hiệp': 'Thanh Trì', 'Ngã Tư Sở': 'Đống Đa', 'Văn Quán': 'Hà Đông', 'Nguyễn Trung Trực': 'Ba Đình', 'Thanh Xuân Trung': 'Thanh Xuân', 'Bách Khoa': 'Hai Bà Trưng', 'Kim Liên': 'Đống Đa', 'Lê Đại Hành': 'Hai Bà Trưng', 'Giảng Võ': 'Ba Đình', 'Hàng Bạc': 'Hoàn Kiếm', 'Nam Sơn': 'Sóc Sơn', 'Yên Mỹ': 'Nông Cống', 'Trúc Bạch': 'Ba Đình', 'Đức Bác': 'Sông Lô', 'Nguyễn Du': 'Hai Bà Trưng', 'Hòa Bình': 'Hoà Bình', 'Phố Mới': 'Lào Cai', 'Quốc Tuấn': 'An Lão', 'Minh Sơn': 'Đô Lương', 'Quỳnh Nguyên': 'Quỳnh Phụ', 'Cô Giang': '1', '1': '3', '13': '8', 'Thành Công': 'Ba Đình', '4': '8', '9': '10', 'Hà Cầu': 'Hà Đông', 'Thanh Hà': 'Thanh Liêm', 'Quang Hưng': 'Kiến Xương', 'Khương Thượng': 'Đống Đa', 'Thái Nguyên': 'Thái Thụy', '5': 'Gò Công', 'Mỹ Đức Tây': 'Cái Bè', 'Tân Phước': 'Đồng Phù', '25': 'Bình Thạnh', 'Đông Quí': 'Tiền Hải', '6': '4', 'Thuỵ Khuê': 'Tây Hồ', '8': '3', 'Thiệu Viên': 'Thiệu Hoá', '14': '11', 'Tân Trào': 'Thanh Miện', 'Phạm Ngũ Lão': '1', 'Bình Hưng Hòa A': 'Bình Tân', '12': '8', 'Võ Miếu': 'Thanh Sơn', 'Nam Dương': 'Lục Ngạn', 'Ngọc Mỹ': 'Quốc Oai', '22': 'Bình Thạnh', 'Tăng Tiến': 'Việt Yên', '10': '3', 'Quán Thánh': 'Ba Đình', 'Phú Thạnh': 'Tuy Hòa', 'Hiệp Bình Phước': 'Thủ Đức', 'Tây Giang': 'Tiền Hải', 'Thảo Điền': '2', 'Củ Chi': 'Củ Chi', '3': 'Sa Đéc', 'Long Thới': 'Nhà Bè', 'Nguyễn Cư Trinh': '1', 'Minh Cường': 'Thường Tín', 'Tam Quan Bắc': 'Hoài Nhơn', 'Phạm Văn Hai': 'Bình Chánh', '2': '4', '28': 'Bình Thạnh', 'Linh Trung': 'Thủ Đức', 'Phố Huế': 'Hai Bà Trưng', '7': 'Bình Thạnh', 'Diêm Điền': 'Thái Thụy', 'An Nhơn Tây': 'Củ Chi', 'Trung Tú': 'Ứng Hòa', 'Lương Phong': 'Hiệp Hòa', '15': '8', 'Đông Ninh': 'Khoái Châu', 'Cầu Kho': '1', 'Duyên Thái': 'Thường Tín', 'Tân Quý': 'Tân Phú', 'Giao Phong': 'Giao Thủy', 'Bình Trị Đông': 'Bình Tân', 'An Phú Đông': '12', 'Bình Chiểu': 'Thủ Đức', 'Thượng Trưng': 'Vĩnh Tường', 'Phú Trung': 'Tân Phú', 'Hoà Thạnh': 'Tân Phú', 'Tân Phú': 'Thới Bình', 'Núi Sập': 'Thoại Sơn', 'Phước Long B': '9', 'Thạnh Lộc': '12', 'Bình Thuận': '7', 'Tân Tạo': 'Bình Tân', 'Linh Chiểu': 'Thủ Đức', 'Tân Thạnh Đông': 'Củ Chi', 'Thành Lợi': 'Bình Tân', 'Tiến Thịnh': 'Mê Linh', 'Đa Kao': '1', 'Cầu Diễn': 'Nam Từ Liêm', 'Thanh Lâm': 'Mê Linh', 'Uy Nỗ': 'Đông Anh', 'Dục Tú': 'Đông Anh', 'Hàng Bài': 'Hoàn Kiếm', 'Quỳnh Tân': 'Quỳnh Lưu', 'Yên Bài': 'Ba Vì', 'Hạ Mỗ': 'Đan Phượng', 'Đại Áng': 'Thanh Trì', 'Bình Trị Đông B': 'Bình Tân', 'Thới Tam Thôn': 'Hóc Môn', 'Đan Phượng': 'Đan Phượng', '24': 'Bình Thạnh', 'Hưng Long': 'Bình Chánh', 'Bình Hưng Hòa': 'Bình Tân', 'Sóc Sơn': 'Sóc Sơn', 'Khâm Thiên': 'Đống Đa', 'Trung Lập Hạ': 'Củ Chi', 'Mai Lâm': 'Đông Anh', 'Yên Trung': 'Ý Yên', 'Quang Tiến': 'Sóc Sơn', 'Phụng Châu': 'Chương Mỹ', 'Kinh Kệ': 'Lâm Thao', 'Tân Xuân': 'Hóc Môn', 'Hiền Ninh': 'Sóc Sơn', 'Cửa Nam': 'Hoàn Kiếm', 'Song Phương': 'Hoài Đức', 'Bình Trị Đông A': 'Bình Tân', 'Bình An': '2', '26': 'Bình Thạnh', 'Nguyên Khê': 'Đông Anh', 'Tốt Động': 'Chương Mỹ', 'Tân Thới Hiệp': '12', 'Hóc Môn': 'Hóc Môn', 'Phù Linh': 'Sóc Sơn', 'Vạn Thắng': 'Ba Vì', 'Hàng Mã': 'Hoàn Kiếm', 'Ngô Quyền': 'Bắc Giang', 'Cổ Bi': 'Gia Lâm', 'Hồng Hà': 'Đan Phượng', 'Xuân Nộn': 'Đông Anh', 'Vân Canh': 'Hoài Đức', 'Việt Long': 'Sóc Sơn', 'Tiên Dương': 'Đông Anh', 'Nghĩa Đạo': 'Thuận Thành', 'Nhị Khê': 'Thường Tín', 'Thắng Lợi': 'Thường Tín', 'Hòa Long': 'Bắc Ninh', 'Thụy An': 'Ba Vì', 'Đường Lâm': 'Sơn Tây', 'Thọ An': 'Đan Phượng', 'Thụy Hương': 'Chương Mỹ', 'Quốc Oai': 'Quốc Oai', 'Thượng Cát': 'Bắc Từ Liêm', 'Trần Quang Khải': 'Nam Định', 'Lam Điền': 'Chương Mỹ', 'Vĩnh Trạch': 'Thoại Sơn', 'Trung Hưng': 'Sơn Tây', 'Minh Trí': 'Sóc Sơn', 'Lam Sơn': 'Bỉm Sơn', 'Lê Lợi': 'Sơn Tây', 'Phù Lỗ': 'Sóc Sơn', 'Tân Kiểng': '7', 'Trực Thắng': 'Trực Ninh', 'Gia Phú': 'Gia Viễn', 'Quảng Tiến': 'Sầm Sơn', 'Minh Thắng': 'Chơn Thành', 'Xuân Hồng': 'Xuân Trường', 'Định Hải': 'Yên Định', 'Phú Khánh': 'Thái Bình', 'Tân Định': '1', 'Xuân Thiên': 'Thọ Xuân', 'Quảng Trung': 'Quảng Xương', 'Quảng Phú Cầu': 'Ứng Hòa', 'Hải Châu': 'Hải Hậu', 'Thiệu Vận': 'Thiệu Hoá', 'Trần Phú': 'Hoàng Mai', 'Binh Hưng Hoà B': 'Bình Tân', 'Đức Thuận': 'Tánh Linh', 'Đồng Luận': 'Thanh Thuỷ', 'Nam Hải': 'Nam Trực', 'Tân Kim': 'Phú Bình', 'Long Giang': 'Chợ Mới', 'Đại Lộc': 'Hậu Lộc', 'Tiêu Động': 'Bình Lục', 'Hà Trung': 'Hà Trung', 'Cẩm Sơn': 'Cẩm Phả', 'Sông Thao': 'Cẩm Khê', 'Hoa Sơn': 'Ứng Hòa', '16': '4', 'Tân Sơn Nhì': 'Tân Phú', 'Đại Thắng': 'Phú Xuyên', 'Ngọc Chúc': 'Giồng Giềng', 'Tân Sỏi': 'Yên Thế', 'Công Thành': 'Yên Thành', 'Mông Hóa': 'Kỳ Sơn', 'Yên Phong': 'Ý Yên', 'Bằng An': 'Quế Võ', 'Phước Minh': 'Bù Gia Mập', 'Đào Xá': 'Thanh Thuỷ', 'Quỳnh Văn': 'Quỳnh Lưu', 'Đồng Văn': 'Thanh Chương', 'Kim Chính': 'Kim Sơn', 'Song Phú': 'Tam Bình', 'Xuân Đông': 'Cẩm Mỹ', 'Tân Chánh Hiệp': '12', 'Thọ Lộc': 'Thọ Xuân', 'Long Thạnh Mỹ': '9', 'Vật Lại': 'Ba Vì', 'Phúc Sơn': 'Chiêm Hóa', 'Phúc Yên': 'Nà Hang', 'Tân Thới Nhất': '12', 'Phước Long': 'Phước Long', 'Mỹ Tịnh An': 'Chợ Gạo', 'Ngọc Thiện': 'Tân Yên', 'Thạnh Xuân': '12', 'Nghèn': 'Can Lộc', 'Bần Yên Nhân': 'Mỹ Hào', 'Yển Khê': 'Thanh Ba', 'Hợp Thanh': 'Mỹ Đức', 'Vị Xuyên': 'Nam Định', 'Liễu Đề': 'Nghĩa Hưng', 'Chi Lăng': 'Lạng Sơn', 'Chăm Mát': 'Hòa Bình', 'Quế Tân': 'Quế Võ', 'Trung Nguyên': 'Yên Lạc', 'Thanh Hương': 'Thanh Liêm', 'Vạn Hoà': 'Lào Cai', 'Long Thuận': 'Hồng Ngự', 'Trấn Yên': 'Bắc Sơn', 'Bình Tân': 'Bình Sơn', 'Minh Tân': 'Phú Xuyên', 'Dân Quyền': 'Triệu Sơn', 'Yên Cường': 'Ý Yên', 'Hải Long': 'Hải Hậu', 'Thái Sơn': 'Thái Thụy', 'Ea Sol': \"Ea H'leo\", 'Cẩm Hưng': 'Cẩm Giàng', 'Mường Sang': 'Mộc Châu', 'Phúc Thuận': 'Phổ Yên', 'Lương Lỗ': 'Thanh Ba', 'Đức Hợp': 'Kim Động', 'Kim Quan': 'Thạch Thất', 'Yên Thái': 'Yên Mô', 'Thụy Sơn': 'Thái Thụy', 'Cam Thượng': 'Ba Vì', 'Mỹ An': 'Tháp Mười', 'Sơn Kỳ': 'Tân Phú', 'Xuân Thiện': 'Kim Sơn', 'Kiện Khê': 'Thanh Liêm', 'Ninh Phong': 'Ninh Bình', 'Trung Hòa': 'Chương Mỹ', 'Thọ Xuân': 'Thọ Xuân', 'Bãi Sậy': 'Ân Thi', 'Thái Dương': 'Bình Giang', 'Nam Trung': 'Tiền Hải', 'Nguyễn Thị Minh Khai': 'Bắc Kạn', 'Vĩnh Hiệp': 'Vĩnh Châu', 'Nam Cường': 'Yên Bái', 'Yên Lạc': 'Yên Lạc', 'Thái Phúc': 'Thái Thụy', 'Hương Sơn': 'Thái Nguyên', 'Đông Hòa': 'Châu Thành', 'Phúc Thịnh': 'Chiêm Hóa', 'Xuân Thủy': 'Xuân Trường', 'Mũi Né': 'Phan Thiết', 'Hòa Phong': 'Mỹ Hào', 'Tân Tạo A': 'Bình Tân', 'Vĩnh Sơn': 'Vĩnh Linh', 'Hiệp Bình Chánh': 'Thủ Đức', 'Vệ An': 'Bắc Ninh', 'Viên Nội': 'Ứng Hòa', 'Trần Văn Thời': 'Trần Văn Thời', 'Mỹ Đức': 'An Lão', 'Xuân Lâm': 'Thuận Thành', 'Đoan Hạ': 'Thanh Thuỷ', 'Hoà Lạc': 'Móng Cái', 'Lam Cốt': 'Tân Yên', 'Phú Hữu': 'An Phú', 'Đồng Ích': 'Lập Thạch', 'Thanh Văn': 'Thanh Chương', 'Hàng Bông': 'Hoàn Kiếm', 'Tân Tuyến': 'Tri Tôn', 'Hàng Đào': 'Hoàn Kiếm', 'Ba Trại': 'Ba Vì', '17': 'Gò Vấp', 'Lạc Hòa': 'Vĩnh Châu', 'Vĩnh Quang': 'Vĩnh Thạnh', 'Đức Hiệp': 'Mộ Đức', 'Phúc Thọ': 'Phúc Thọ', 'Duy Hải': 'Duy Tiên', 'Lộc Sơn': 'Bảo Lộc', 'Bình Mỹ': 'Bình Lục', 'Giao Châu': 'Giao Thủy', 'Hồng Hải': 'Hạ Long', 'Mỹ Lộc': 'Hậu Lộc', 'Thanh Giang': 'Thanh Miện', 'Ninh Phụng': 'Ninh Hòa', 'Hưng Hòa': 'Bến Cát', 'Dị Chế': 'Tiên Lữ', 'Đại Đồng Thành': 'Thuận Thành', 'Sa Pa': 'Sa Pa', 'Chánh An': 'Mang Thít', 'Xuân Quang': 'Bảo Thắng', 'Giao Thiện': 'Giao Thủy', 'Thọ Ngọc': 'Triệu Sơn', 'Vị Thanh': 'Vị Thuỷ', 'Nam Thịnh': 'Tiền Hải', 'Trung Thành': 'Nông Cống', 'Phước Long A': '9', 'Cẩm Bình': 'Cẩm Thủy', 'Hải Tiến': 'Móng Cái', 'Thanh Phú Long': 'Châu Thành', 'Cốc Pài': 'Xín Mần', 'Đắk Mil': 'Đắk Mil', 'Hưng Nguyên': 'Hưng Nguyên', 'Xuân Lập': 'Long Khánh', 'Hòa Phú': 'Chiêm Hóa', 'Nghĩa Phú': 'Nghĩa Hưng', 'Nghĩa Thái': 'Nghĩa Hưng', 'Cẩm Lĩnh': 'Ba Vì', 'An Thạnh Thủy': 'Chợ Gạo', 'Nghĩa Sơn': 'Tư Nghĩa', 'Long Bình': 'Gò Công Tây', 'Trần Hưng Đạo': 'Quảng Ngãi', 'Hòa Thành': 'Lai Vung', 'Tam Quan': 'Hoài Nhơn', 'Minh Tiến': 'Đoan Hùng', 'Quảng Thủy': 'Quảng Trạch', '21': 'Bình Thạnh', 'Thạnh Trị': 'Bình Đại', 'Xuân Hải': 'Ninh Hải', 'Phú Xuyên': 'Phú Xuyên', 'An Mỹ': 'Kế Sách', 'Trung An': 'Vũng Liêm', 'Tân Thắng': 'Hàm Tân', 'Vĩnh Hùng': 'Vĩnh Lộc', 'Vĩnh Hòa': 'Ba Tri', 'Đắk Mar': 'Đắk Hà', 'An Phú': '2', 'Gò Dầu': 'Gò Dầu', 'Ngư Lộc': 'Hậu Lộc', 'Bình Giang': 'Hòn Đất', 'Hồng Minh': 'Phú Xuyên', 'Kinh Cùng': 'Phụng Hiệp', 'Đức Thủy': 'Đức Thọ', 'Ngọc Sơn': 'Thanh Chương', 'Thanh Sơn': 'Thanh Sơn', 'Xuân Hóa': 'Minh Hóa', 'Vạn Xuân': 'Thường Xuân', 'Xuân Canh': 'Đông Anh', 'Linh Đông': 'Thủ Đức', 'Ninh Hòa': 'Hoa Lư', 'An Hòa': 'Trảng Bàng', 'Huy Khiêm': 'Tánh Linh', 'Diễn Thọ': 'Diễn Châu', 'Quỳnh Long': 'Quỳnh Lưu', 'Thạnh Ngãi': 'Mỏ Cày Bắc', 'Biển Bạch': 'Thới Bình', 'Hiệp Phú': '9', 'Ân Thi': 'Ân Thi', 'Đội Bình': 'Ứng Hòa', 'Quỳnh Giao': 'Quỳnh Phụ', 'Tân Phong': 'Ninh Giang', 'Liên Mạc': 'Bắc Từ Liêm', 'Cát Lâm': 'Phù Cát', 'Nam Thắng': 'Nam Trực', 'Hải Trung': 'Hải Hậu', 'Xuy Xá': 'Mỹ Đức', 'Đại Cường': 'Ứng Hòa', 'Đông Cơ': 'Tiền Hải', 'Quế Lâm': 'Đoan Hùng', 'Thác Bà': 'Yên Bình', 'Trù Hựu': 'Lục Ngạn', 'Bình Xa': 'Hàm Yên', 'Thới Hòa': 'Trà Ôn', 'Quang Lịch': 'Kiến Xương', 'Thái Học': 'Chí Linh', 'Vĩnh Thịnh': 'Vĩnh Tường', 'Tân Ninh': 'Quảng Ninh', 'Phú Điền': 'Tân Phú', 'Quảng Trạch': 'Quảng Trạch', 'Quảng Cư': 'Quảng Cư'}\n"
     ]
    }
   ],
   "source": [
    "# Chuyển chuỗi rỗng thành NaN\n",
    "df['CityNameHouseHold'] = df['CityNameHouseHold'].replace(\"\", None)\n",
    "df['DistrictNameHouseHold'] = df['DistrictNameHouseHold'].replace(\"\", None)\n",
    "df['WardNameHouseHold'] = df['WardNameHouseHold'].replace(\"\", None)\n",
    "\n",
    "ward_to_city = df.dropna(subset=['CityNameHouseHold', 'WardNameHouseHold']).drop_duplicates(subset=[\"WardNameHouseHold\", \"CityNameHouseHold\"]).set_index(\"WardNameHouseHold\")[\"CityNameHouseHold\"].to_dict()\n",
    "\n",
    "ward_to_district = df.dropna(subset=['DistrictNameHouseHold', 'WardNameHouseHold']).drop_duplicates(subset=[\"WardNameHouseHold\", \"DistrictNameHouseHold\"]).set_index(\"WardNameHouseHold\")[\"DistrictNameHouseHold\"].to_dict()\n",
    "\n",
    "ward_to_city.update({\n",
    "    'Vĩnh Thịnh': 'Vĩnh Phúc',\n",
    "    'Tân Ninh': 'Quảng Bình',\n",
    "    'Phú Điền': 'Đồng Nai',\n",
    "    'Quảng Trạch': 'Quảng Bình',\n",
    "    'Quảng Cư': 'Sầm Sơn'\n",
    "})\n",
    "\n",
    "ward_to_district.update({\n",
    "    'Vĩnh Thịnh': 'Vĩnh Tường',\n",
    "    'Tân Ninh': 'Quảng Ninh',\n",
    "    'Phú Điền': 'Tân Phú',\n",
    "    'Quảng Trạch': 'Quảng Trạch',\n",
    "    'Quảng Cư': 'Quảng Cư'\n",
    "\n",
    "})\n",
    "\n",
    "print('Dictionary tự động tạo:')\n",
    "print(ward_to_city)\n",
    "print(ward_to_district)"
   ]
  },
  {
   "cell_type": "code",
   "execution_count": 46,
   "metadata": {},
   "outputs": [],
   "source": [
    "df['CityNameHouseHold'] = df['CityNameHouseHold'].fillna(df['WardNameHouseHold'].map(ward_to_city))\n",
    "\n",
    "df['DistrictNameHouseHold'] = df['DistrictNameHouseHold'].fillna(df['WardNameHouseHold'].map(ward_to_district))"
   ]
  },
  {
   "cell_type": "code",
   "execution_count": 47,
   "metadata": {},
   "outputs": [
    {
     "name": "stdout",
     "output_type": "stream",
     "text": [
      "{'Thanh Trì': 'Vĩnh Quỳnh', 'Nam Từ Liêm': 'Mỹ Đình 1', 'Cầu Giấy': 'Trung Hoà', 'Tây Hồ': 'Phú Thượng', 'Long Biên': 'Thượng Thanh', 'Hoàn Kiếm': 'Chương Dương Độ', 'Bắc Từ Liêm': 'Cổ Nhuế 1', 'Ba Đình': 'Ngọc Khánh', 'Hai Bà Trưng': 'Bạch Mai', 'Đống Đa': 'Trung Phụng', 'Hà Đông': 'Nguyễn Trãi', 'Thanh Xuân': 'Khương Trung', 'Bình Tân': 'Bình Hưng Hòa A', 'Phú Nhuận': 'Phường 3', 'Thủ Đức': 'Linh Xuân', 'Quận 9': 'Tăng Nhơn Phú B', 'Bình Thạnh': 'Phường 22', 'Hoàng Mai': 'Lĩnh Nam', 'Quận 12': 'Tân Chánh Hiệp', 'Gò Vấp': 'Phường 5', 'Quận 3': 'Phường 10'}\n"
     ]
    }
   ],
   "source": [
    "# Tạo dictionary cho WardNameHouseHold từ CityNameHouseHold và DistrictNameHouseHold\n",
    "city_district_to_ward = df.dropna(subset=[\"CityNameHouseHold\", \"DistrictNameHouseHold\", \"WardNameHouseHold\"]) \\\n",
    "    .drop_duplicates(subset=[\"CityNameHouseHold\", \"DistrictNameHouseHold\", \"WardNameHouseHold\"]) \\\n",
    "    .set_index([\"CityNameHouseHold\", \"DistrictNameHouseHold\"])[\"WardNameHouseHold\"] \\\n",
    "    .to_dict()\n",
    "\n",
    "print(district_to_ward)"
   ]
  },
  {
   "cell_type": "code",
   "execution_count": 48,
   "metadata": {},
   "outputs": [],
   "source": [
    "df['WardNameHouseHold'] = df['WardNameHouseHold'].fillna(\n",
    "    df.apply(lambda row: city_district_to_ward.get((row['CityNameHouseHold'], row['DistrictNameHouseHold'])), axis=1)\n",
    ")"
   ]
  },
  {
   "cell_type": "code",
   "execution_count": 49,
   "metadata": {},
   "outputs": [],
   "source": [
    "df = df.dropna(subset=['WardNameHouseHold'], how='all')"
   ]
  },
  {
   "cell_type": "code",
   "execution_count": 50,
   "metadata": {},
   "outputs": [],
   "source": [
    "df['Street'] = df['Street'].fillna('Không có')"
   ]
  },
  {
   "cell_type": "code",
   "execution_count": 51,
   "metadata": {},
   "outputs": [],
   "source": [
    "df['CityCompany'] = df['CityCompany'].apply(\n",
    "    lambda x: x if x in ['Hà Nội', 'Hồ Chí Minh'] else np.nan\n",
    ")"
   ]
  },
  {
   "cell_type": "code",
   "execution_count": 52,
   "metadata": {},
   "outputs": [
    {
     "name": "stdout",
     "output_type": "stream",
     "text": [
      "{'Hà Đông': 'Hà Nội', 'Ba Đình': 'Hà Nội', 'Nam Từ Liêm': 'Hà Nội', 'Tây Hồ': 'Hà Nội', 'Hai Bà Trưng': 'Hồ Chí Minh', 'Tiền Hải': 'Hà Nội', 'Thanh Xuân': 'Hà Nội', 'Thanh Trì': 'Hà Nội', 'Gia Lâm': 'Hà Nội', 'Long Biên': 'Hồ Chí Minh', 'Hoàng Mai': 'Hà Nội', 'Đống Đa': 'Hồ Chí Minh', 'Cầu Giấy': 'Hà Nội', 'Văn Chấn': 'Hồ Chí Minh', 'Phú Xuyên': 'Hà Nội', 'Thái Bình': 'Hà Nội', 'Bắc Từ Liêm': 'Hà Nội', 'Hoàn Kiếm': 'Hà Nội', 'Cao Bằng': 'Hà Nội', 'Yên Mỹ': 'Hà Nội', '3': 'Hồ Chí Minh', 'Ba Vì': 'Hà Nội', 'Kbang': 'Hồ Chí Minh', 'Việt Trì': 'Hà Nội', 'Tam Điệp': 'Hà Nội', 'Sông Lô': 'Hà Nội', 'Hoà Bình': 'Hồ Chí Minh', 'Lào Cai': 'Hà Nội', 'An Lão': 'Hà Nội', 'Đô Lương': 'Hà Nội', 'Quỳnh Phụ': 'Hồ Chí Minh', '1': 'Hồ Chí Minh', '5': 'Hồ Chí Minh', '10': 'Hồ Chí Minh', 'Phú Nhuận': 'Hồ Chí Minh', 'Lạc Thủy': 'Hồ Chí Minh', 'Phù Cừ': 'Hà Nội', 'Thái Thụy': 'Hà Nội', 'Cái Bè': 'Hồ Chí Minh', 'Đồng Phù': 'Hồ Chí Minh', '2': 'Hồ Chí Minh', 'Bình Thạnh': 'Hồ Chí Minh', 'Tân Bình': 'Hồ Chí Minh', '8': 'Hồ Chí Minh', 'Thiệu Hoá': 'Hà Nội', 'Thanh Miện': 'Hà Nội', 'Bình Tân': 'Hồ Chí Minh', 'Thanh Sơn': 'Hà Nội', 'Lục Ngạn': 'Hà Nội', 'Quốc Oai': 'Hà Nội', 'Việt Yên': 'Hà Nội', '6': 'Hồ Chí Minh', 'Tân Phú': 'Hồ Chí Minh', 'Thủ Đức': 'Hồ Chí Minh', 'Tây Sơn': 'Hồ Chí Minh', 'Củ Chi': 'Hồ Chí Minh', 'Nhà Bè': 'Hồ Chí Minh', 'Thường Tín': 'Hà Nội', 'Hoài Nhơn': 'Hồ Chí Minh', 'Bình Chánh': 'Hồ Chí Minh', 'Gò Vấp': 'Hồ Chí Minh', 'Ứng Hòa': 'Hà Nội', 'Hiệp Hòa': 'Hà Nội', 'Khoái Châu': 'Hà Nội', 'Giao Thủy': 'Hà Nội', '12': 'Hồ Chí Minh', 'Vĩnh Tường': 'Hà Nội', 'Thoại Sơn': 'Hồ Chí Minh', '9': 'Hồ Chí Minh', '7': 'Hồ Chí Minh', 'Đông Anh': 'Hồ Chí Minh', 'Mê Linh': 'Hà Nội', 'Quỳnh Lưu': 'Hà Nội', 'Đan Phượng': 'Hà Nội', 'Hóc Môn': 'Hồ Chí Minh', 'Sóc Sơn': 'Hà Nội', 'Sơn Tây': 'Hà Nội', 'Ý Yên': 'Hà Nội', 'Chương Mỹ': 'Hà Nội', 'Lâm Thao': 'Hà Nội', 'Hoài Đức': 'Hà Nội', 'Đông Hưng': 'Hà Nội', 'Bắc Giang': 'Hà Nội', 'Thuận Thành': 'Hà Nội', 'Bắc Ninh': 'Hà Nội', 'Nam Định': 'Hà Nội', 'Bỉm Sơn': 'Hà Nội', 'Trực Ninh': 'Hà Nội', 'Gia Viễn': 'Hà Nội', 'Sầm Sơn': 'Hà Nội', 'Chơn Thành': 'Hồ Chí Minh', 'Xuân Trường': 'Hà Nội', 'Yên Định': 'Hà Nội', 'Tân Phú Đông': 'Hồ Chí Minh', 'Thọ Xuân': 'Hà Nội', 'Quảng Xương': 'Hà Nội', 'Hải Hậu': 'Hà Nội', 'Tánh Linh': 'Hồ Chí Minh', 'Thanh Thuỷ': 'Hà Nội', 'Nam Trực': 'Hà Nội', 'Phú Bình': 'Hà Nội', 'Chợ Mới': 'Hồ Chí Minh', 'Hậu Lộc': 'Hà Nội', 'Gò Công': 'Hồ Chí Minh', 'Bình Lục': 'Hà Nội', 'Hà Trung': 'Hà Nội', 'Cẩm Phả': 'Hà Nội', 'Cẩm Khê': 'Hà Nội', '4': 'Hồ Chí Minh', 'Giồng Giềng': 'Hồ Chí Minh', 'Yên Thế': 'Hà Nội', 'Yên Thành': 'Hà Nội', 'Kỳ Sơn': 'Hà Nội', 'Quế Võ': 'Hà Nội', 'Bù Gia Mập': 'Hồ Chí Minh', 'Đồng Văn': 'Hà Nội', 'Kim Sơn': 'Hà Nội', 'Tam Bình': 'Hồ Chí Minh', 'Cẩm Mỹ': 'Hồ Chí Minh', 'Chiêm Hóa': 'Hà Nội', 'Nà Hang': 'Hà Nội', 'Phước Long': 'Hồ Chí Minh', 'Chợ Gạo': 'Hồ Chí Minh', 'Nông Cống': 'Hà Nội', 'Đông Hà': 'Hồ Chí Minh', 'Tân Yên': 'Hà Nội', 'Can Lộc': 'Hà Nội', 'Mỹ Hào': 'Hà Nội', 'Thanh Ba': 'Hà Nội', 'Mỹ Đức': 'Hà Nội', 'Nghĩa Hưng': 'Hà Nội', 'Lạng Sơn': 'Hà Nội', 'Hòa Bình': 'Hà Nội', 'Yên Lạc': 'Hà Nội', 'Thanh Liêm': 'Hà Nội', 'Hồng Ngự': 'Hồ Chí Minh', 'Bắc Sơn': 'Hà Nội', 'Triệu Sơn': 'Hà Nội', \"Ea H'leo\": 'Hồ Chí Minh', 'Thanh Hóa': 'Hà Nội', 'Cẩm Giàng': 'Hà Nội', 'Mộc Châu': 'Hà Nội', 'Tiên Lãng': 'Hà Nội', 'Phổ Yên': 'Hà Nội', 'Kim Động': 'Hà Nội', 'Thạch Thất': 'Hà Nội', 'Yên Mô': 'Hà Nội', 'Thạnh Phú': 'Hồ Chí Minh', 'Tuy Hòa': 'Hồ Chí Minh', 'Ninh Bình': 'Hà Nội', 'Ân Thi': 'Hà Nội', 'Bình Giang': 'Hà Nội', 'Bắc Kạn': 'Hà Nội', 'Vĩnh Châu': 'Hồ Chí Minh', 'Yên Bái': 'Hà Nội', 'Yên Thủy': 'Hà Nội', 'Thái Nguyên': 'Hà Nội', 'Châu Thành': 'Hồ Chí Minh', 'Thanh Chương': 'Hà Nội', 'Phan Thiết': 'Hồ Chí Minh', 'Vĩnh Linh': 'Hà Nội', 'Trần Văn Thời': 'Hồ Chí Minh', 'Móng Cái': 'Hà Nội', 'An Phú': 'Hồ Chí Minh', 'Lập Thạch': 'Hà Nội', 'Tri Tôn': 'Hồ Chí Minh', 'Vĩnh Thạnh': 'Hồ Chí Minh', 'Mộ Đức': 'Hồ Chí Minh', 'Phúc Thọ': 'Hà Nội', 'Duy Tiên': 'Hà Nội', 'Bảo Lộc': 'Hồ Chí Minh', 'Hạ Long': 'Hà Nội', 'Ninh Hòa': 'Hồ Chí Minh', 'Bến Cát': 'Hồ Chí Minh', 'Tiên Lữ': 'Hà Nội', 'Kiến Xương': 'Hà Nội', 'Sa Pa': 'Hà Nội', 'Mang Thít': 'Hồ Chí Minh', 'Bảo Thắng': 'Hồ Chí Minh', 'Vị Thuỷ': 'Hồ Chí Minh', 'Cẩm Thủy': 'Hà Nội', 'Xín Mần': 'Hà Nội', 'Đắk Mil': 'Hà Nội', 'Hưng Nguyên': 'Hà Nội', 'Long Khánh': 'Hồ Chí Minh', 'Tư Nghĩa': 'Hà Nội', 'Quảng Ngãi': 'Hồ Chí Minh', 'Lai Vung': 'Hồ Chí Minh', '11': 'Hồ Chí Minh', 'Đoan Hùng': 'Hà Nội', 'Quảng Trạch': 'Hồ Chí Minh', 'Bình Đại': 'Hồ Chí Minh', 'Ninh Hải': 'Hồ Chí Minh', 'Kế Sách': 'Hồ Chí Minh', 'Vũng Liêm': 'Hồ Chí Minh', 'Hàm Tân': 'Hồ Chí Minh', 'Vĩnh Lộc': 'Hà Nội', 'Ba Tri': 'Hồ Chí Minh', 'Đắk Hà': 'Hồ Chí Minh', 'Gò Dầu': 'Hồ Chí Minh', 'Thới Bình': 'Hồ Chí Minh', 'Hòn Đất': 'Hồ Chí Minh', 'Phụng Hiệp': 'Hồ Chí Minh', 'Đức Thọ': 'Hồ Chí Minh', 'Minh Hóa': 'Hồ Chí Minh', 'Thường Xuân': 'Hà Nội', 'Sa Đéc': 'Hồ Chí Minh', 'Hoa Lư': 'Hà Nội', 'Trảng Bàng': 'Hồ Chí Minh', 'Gò Công Tây': 'Hồ Chí Minh', 'Diễn Châu': 'Hà Nội', 'Mỏ Cày Bắc': 'Hồ Chí Minh', 'Bình Sơn': 'Hồ Chí Minh', 'Tháp Mười': 'Hồ Chí Minh', 'Ninh Giang': 'Hà Nội', 'Phù Cát': 'Hồ Chí Minh', 'Yên Bình': 'Hà Nội', 'Hàm Yên': 'Hà Nội', 'Trà Ôn': 'Hồ Chí Minh', 'Chí Linh': 'Hà Nội', 'Hải Dương': 'Hải Dương', 'Vĩnh Yên': 'Vĩnh Yên', 'Ngô Quyền': 'Hải Phòng'}\n"
     ]
    }
   ],
   "source": [
    "df['CityCompany'] = df['CityCompany'].replace(\"\", None)\n",
    "df['DistrictNameCompany'] = df['DistrictNameCompany'].replace(\"\", None)\n",
    "\n",
    "df = df.dropna(subset=['CityCompany', 'DistrictNameCompany'], how='all')\n",
    "\n",
    "district_to_city = df.dropna(subset=['CityCompany', 'DistrictNameCompany']).drop_duplicates(subset=['DistrictNameCompany', 'CityCompany']).set_index(\"DistrictNameCompany\")[\"CityCompany\"].to_dict()\n",
    "\n",
    "district_to_city.update({\n",
    "    'Hải Dương': 'Hải Dương',\n",
    "    'Vĩnh Yên': 'Vĩnh Yên',\n",
    "    'Ngô Quyền': 'Hải Phòng'\n",
    "})\n",
    "\n",
    "print(district_to_city)"
   ]
  },
  {
   "cell_type": "code",
   "execution_count": 53,
   "metadata": {},
   "outputs": [],
   "source": [
    "df['CityCompany'] = df['CityCompany'].fillna(df['DistrictNameCompany'].map(district_to_city))\n",
    "\n",
    "df['DistrictNameCompany'] = df['DistrictNameCompany'].fillna('Not Provided')"
   ]
  },
  {
   "cell_type": "markdown",
   "metadata": {},
   "source": [
    "#### Phân tích sơ lược các trường trong Dataset\n",
    "\n",
    "1. Những cột loại bỏ đi do không cần thiết\n",
    "- Brieft: Mô tả chung\n",
    "- Name: Tên khách hàng không ảnh hưởng để kết quả phân tích\n",
    "- Address: Địa chỉ cụ thể đã được thay thế bằng các trường phân cấp khác\n",
    "- DescriptionPositionJob: Mô tả công việc chi tiết\n",
    "\n",
    "2. Những cột bị loại bỏ đi do thông tin thiếu hụt quá nhiều và không có phương pháp khôi phục, fillna\n",
    "- ReceiveYourIncomeSalary: Phương thức chuyển lương\n",
    "\n",
    "3. Những cột bị loại bỏ đi do trùng lặp thông tin\n",
    "- SoTienDKVayBanDau: Trùng với cột Số Tiền Đăng Ký Vay Ban Đầu\n",
    "- TienGiaiNgan: Trùng với cột Tiền Giải Ngân"
   ]
  },
  {
   "cell_type": "markdown",
   "metadata": {},
   "source": [
    "## Xử lý Moneytary Attribute"
   ]
  },
  {
   "cell_type": "code",
   "execution_count": 54,
   "metadata": {},
   "outputs": [],
   "source": [
    "df = df.dropna(subset=['Salary'])"
   ]
  },
  {
   "cell_type": "code",
   "execution_count": 55,
   "metadata": {},
   "outputs": [],
   "source": [
    "df.loc[df['Salary'] == 'Ten thousand', 'Salary'] = '1000$'\n",
    "\n",
    "df['Salary'] = df['Salary'].apply(lambda x: str(int(x.replace('$', '')) * 25000) if isinstance(x, str) and '$' in x else x)"
   ]
  },
  {
   "cell_type": "code",
   "execution_count": 56,
   "metadata": {},
   "outputs": [
    {
     "data": {
      "text/html": [
       "<div>\n",
       "<style scoped>\n",
       "    .dataframe tbody tr th:only-of-type {\n",
       "        vertical-align: middle;\n",
       "    }\n",
       "\n",
       "    .dataframe tbody tr th {\n",
       "        vertical-align: top;\n",
       "    }\n",
       "\n",
       "    .dataframe thead th {\n",
       "        text-align: right;\n",
       "    }\n",
       "</style>\n",
       "<table border=\"1\" class=\"dataframe\">\n",
       "  <thead>\n",
       "    <tr style=\"text-align: right;\">\n",
       "      <th></th>\n",
       "      <th>STT</th>\n",
       "      <th>JobName</th>\n",
       "      <th>NameCompany</th>\n",
       "      <th>AddressCompany</th>\n",
       "      <th>Salary</th>\n",
       "    </tr>\n",
       "  </thead>\n",
       "  <tbody>\n",
       "    <tr>\n",
       "      <th>70</th>\n",
       "      <td>664</td>\n",
       "      <td>Thất nghiệp</td>\n",
       "      <td>Không có</td>\n",
       "      <td>Không có</td>\n",
       "      <td>0.0</td>\n",
       "    </tr>\n",
       "    <tr>\n",
       "      <th>190</th>\n",
       "      <td>644</td>\n",
       "      <td>Thất nghiệp</td>\n",
       "      <td>Không có</td>\n",
       "      <td>Không có</td>\n",
       "      <td>0.0</td>\n",
       "    </tr>\n",
       "    <tr>\n",
       "      <th>250</th>\n",
       "      <td>410</td>\n",
       "      <td>Thất nghiệp</td>\n",
       "      <td>Không có</td>\n",
       "      <td>Không có</td>\n",
       "      <td>0.0</td>\n",
       "    </tr>\n",
       "    <tr>\n",
       "      <th>255</th>\n",
       "      <td>301</td>\n",
       "      <td>Thất nghiệp</td>\n",
       "      <td>Không có</td>\n",
       "      <td>Không có</td>\n",
       "      <td>0.0</td>\n",
       "    </tr>\n",
       "    <tr>\n",
       "      <th>256</th>\n",
       "      <td>302</td>\n",
       "      <td>Thất nghiệp</td>\n",
       "      <td>Không có</td>\n",
       "      <td>Không có</td>\n",
       "      <td>0.0</td>\n",
       "    </tr>\n",
       "    <tr>\n",
       "      <th>...</th>\n",
       "      <td>...</td>\n",
       "      <td>...</td>\n",
       "      <td>...</td>\n",
       "      <td>...</td>\n",
       "      <td>...</td>\n",
       "    </tr>\n",
       "    <tr>\n",
       "      <th>2032</th>\n",
       "      <td>2630</td>\n",
       "      <td>Thất nghiệp</td>\n",
       "      <td>Không có</td>\n",
       "      <td>Không có</td>\n",
       "      <td>0.0</td>\n",
       "    </tr>\n",
       "    <tr>\n",
       "      <th>2046</th>\n",
       "      <td>2647</td>\n",
       "      <td>Thất nghiệp</td>\n",
       "      <td>Không có</td>\n",
       "      <td>Không có</td>\n",
       "      <td>0.0</td>\n",
       "    </tr>\n",
       "    <tr>\n",
       "      <th>2121</th>\n",
       "      <td>2741</td>\n",
       "      <td>Thất nghiệp</td>\n",
       "      <td>Không có</td>\n",
       "      <td>Không có</td>\n",
       "      <td>0.0</td>\n",
       "    </tr>\n",
       "    <tr>\n",
       "      <th>2252</th>\n",
       "      <td>2930</td>\n",
       "      <td>Thất nghiệp</td>\n",
       "      <td>Không có</td>\n",
       "      <td>Không có</td>\n",
       "      <td>0.0</td>\n",
       "    </tr>\n",
       "    <tr>\n",
       "      <th>2373</th>\n",
       "      <td>3176</td>\n",
       "      <td>Thất nghiệp</td>\n",
       "      <td>Không có</td>\n",
       "      <td>Không có</td>\n",
       "      <td>0.0</td>\n",
       "    </tr>\n",
       "  </tbody>\n",
       "</table>\n",
       "<p>159 rows × 5 columns</p>\n",
       "</div>"
      ],
      "text/plain": [
       "       STT      JobName NameCompany AddressCompany Salary\n",
       "70     664  Thất nghiệp    Không có       Không có    0.0\n",
       "190    644  Thất nghiệp    Không có       Không có    0.0\n",
       "250    410  Thất nghiệp    Không có       Không có    0.0\n",
       "255    301  Thất nghiệp    Không có       Không có    0.0\n",
       "256    302  Thất nghiệp    Không có       Không có    0.0\n",
       "...    ...          ...         ...            ...    ...\n",
       "2032  2630  Thất nghiệp    Không có       Không có    0.0\n",
       "2046  2647  Thất nghiệp    Không có       Không có    0.0\n",
       "2121  2741  Thất nghiệp    Không có       Không có    0.0\n",
       "2252  2930  Thất nghiệp    Không có       Không có    0.0\n",
       "2373  3176  Thất nghiệp    Không có       Không có    0.0\n",
       "\n",
       "[159 rows x 5 columns]"
      ]
     },
     "metadata": {},
     "output_type": "display_data"
    }
   ],
   "source": [
    "df.loc[df['Salary'] == '0.0', 'AddressCompany'] = 'Không có'\n",
    "df.loc[df['Salary'] == '0.0', 'JobName'] = 'Thất nghiệp'\n",
    "df.loc[df['Salary'] == '0.0', 'NameCompany'] = 'Không có'\n",
    "df.loc[df['SoTienConLai'] < 0, 'SoTienConLai'] = 0\n",
    "\n",
    "zero_salary_rows = df[df['Salary'] == '0.0'][['STT', 'JobName', 'NameCompany', 'AddressCompany', 'Salary']]\n",
    "\n",
    "display(zero_salary_rows)"
   ]
  },
  {
   "cell_type": "code",
   "execution_count": 57,
   "metadata": {},
   "outputs": [
    {
     "name": "stdout",
     "output_type": "stream",
     "text": [
      "Empty DataFrame\n",
      "Columns: [STT, SoTienDKVayBanDau, TienGiaiNgan, SoTienConLai, application_date, TS_CREDIT_SCORE_V2, Số điện thoại khách hàng, FromDate, ID, LoanID, Số tiền đăng ký vay ban đầu, Tiền giải ngân, Tiền gốc còn lại, ToDate, Trạng thái, FullName, CardNumber, Gender, Birthday, CityName, DistrictName, WardName, Hình thức cư trú, Thời gian đã sống, Street, CityNameHouseHold, DistrictNameHouseHold, WardNameHouseHold, JobName, NameCompany, AddressCompany, CityCompany, DistrictNameCompany, Salary, ReceiveYourIncomeSalary, DescriptionPositionJob, RelativeFamilyName, FullNameFamily, ProductCreditName, InterestPaymentType, LongestOverdue, CreditInfo, Name, Address, CheckTime, Brieft, NumberOfLoans, HasBadDebt, HasLatePayment]\n",
      "Index: []\n",
      "\n",
      "[0 rows x 49 columns]\n",
      "Empty DataFrame\n",
      "Columns: [STT, SoTienDKVayBanDau, TienGiaiNgan, SoTienConLai, application_date, TS_CREDIT_SCORE_V2, Số điện thoại khách hàng, FromDate, ID, LoanID, Số tiền đăng ký vay ban đầu, Tiền giải ngân, Tiền gốc còn lại, ToDate, Trạng thái, FullName, CardNumber, Gender, Birthday, CityName, DistrictName, WardName, Hình thức cư trú, Thời gian đã sống, Street, CityNameHouseHold, DistrictNameHouseHold, WardNameHouseHold, JobName, NameCompany, AddressCompany, CityCompany, DistrictNameCompany, Salary, ReceiveYourIncomeSalary, DescriptionPositionJob, RelativeFamilyName, FullNameFamily, ProductCreditName, InterestPaymentType, LongestOverdue, CreditInfo, Name, Address, CheckTime, Brieft, NumberOfLoans, HasBadDebt, HasLatePayment]\n",
      "Index: []\n",
      "\n",
      "[0 rows x 49 columns]\n",
      "Empty DataFrame\n",
      "Columns: [STT, SoTienDKVayBanDau, TienGiaiNgan, SoTienConLai, application_date, TS_CREDIT_SCORE_V2, Số điện thoại khách hàng, FromDate, ID, LoanID, Số tiền đăng ký vay ban đầu, Tiền giải ngân, Tiền gốc còn lại, ToDate, Trạng thái, FullName, CardNumber, Gender, Birthday, CityName, DistrictName, WardName, Hình thức cư trú, Thời gian đã sống, Street, CityNameHouseHold, DistrictNameHouseHold, WardNameHouseHold, JobName, NameCompany, AddressCompany, CityCompany, DistrictNameCompany, Salary, ReceiveYourIncomeSalary, DescriptionPositionJob, RelativeFamilyName, FullNameFamily, ProductCreditName, InterestPaymentType, LongestOverdue, CreditInfo, Name, Address, CheckTime, Brieft, NumberOfLoans, HasBadDebt, HasLatePayment]\n",
      "Index: []\n",
      "\n",
      "[0 rows x 49 columns]\n",
      "Empty DataFrame\n",
      "Columns: [STT, SoTienDKVayBanDau, TienGiaiNgan, SoTienConLai, application_date, TS_CREDIT_SCORE_V2, Số điện thoại khách hàng, FromDate, ID, LoanID, Số tiền đăng ký vay ban đầu, Tiền giải ngân, Tiền gốc còn lại, ToDate, Trạng thái, FullName, CardNumber, Gender, Birthday, CityName, DistrictName, WardName, Hình thức cư trú, Thời gian đã sống, Street, CityNameHouseHold, DistrictNameHouseHold, WardNameHouseHold, JobName, NameCompany, AddressCompany, CityCompany, DistrictNameCompany, Salary, ReceiveYourIncomeSalary, DescriptionPositionJob, RelativeFamilyName, FullNameFamily, ProductCreditName, InterestPaymentType, LongestOverdue, CreditInfo, Name, Address, CheckTime, Brieft, NumberOfLoans, HasBadDebt, HasLatePayment]\n",
      "Index: []\n",
      "\n",
      "[0 rows x 49 columns]\n",
      "Empty DataFrame\n",
      "Columns: [STT, SoTienDKVayBanDau, TienGiaiNgan, SoTienConLai, application_date, TS_CREDIT_SCORE_V2, Số điện thoại khách hàng, FromDate, ID, LoanID, Số tiền đăng ký vay ban đầu, Tiền giải ngân, Tiền gốc còn lại, ToDate, Trạng thái, FullName, CardNumber, Gender, Birthday, CityName, DistrictName, WardName, Hình thức cư trú, Thời gian đã sống, Street, CityNameHouseHold, DistrictNameHouseHold, WardNameHouseHold, JobName, NameCompany, AddressCompany, CityCompany, DistrictNameCompany, Salary, ReceiveYourIncomeSalary, DescriptionPositionJob, RelativeFamilyName, FullNameFamily, ProductCreditName, InterestPaymentType, LongestOverdue, CreditInfo, Name, Address, CheckTime, Brieft, NumberOfLoans, HasBadDebt, HasLatePayment]\n",
      "Index: []\n",
      "\n",
      "[0 rows x 49 columns]\n"
     ]
    }
   ],
   "source": [
    "for ten_cot in ['SoTienConLai',\n",
    "                'Số tiền đăng ký vay ban đầu', \n",
    "                'Tiền giải ngân', \n",
    "                'Tiền gốc còn lại', \n",
    "                'Salary'\n",
    "            ]:\n",
    "    non_numeric = pd.to_numeric(df[ten_cot], errors='coerce')\n",
    "    non_positive_or_non_numeric = df[non_numeric.isna() | (non_numeric < 0)]\n",
    "    print(non_positive_or_non_numeric)"
   ]
  },
  {
   "cell_type": "code",
   "execution_count": 58,
   "metadata": {},
   "outputs": [
    {
     "data": {
      "text/plain": [
       "array([2.5000000e+07, 7.7000000e+06, 1.2000000e+07, 8.0000000e+06,\n",
       "       5.0000000e+06, 3.0000000e+07, 1.4000000e+07, 1.5000000e+07,\n",
       "       6.5000000e+06, 1.0000000e+07, 9.0000000e+06, 7.5000000e+06,\n",
       "       5.5000000e+06, 3.0000000e+06, 7.6000000e+06, 7.0000000e+06,\n",
       "       6.0000000e+06, 9.5000000e+06, 3.5000000e+06, 3.7000000e+06,\n",
       "       4.2000000e+06, 7.3000000e+06, 0.0000000e+00, 1.1000000e+07,\n",
       "       4.0000000e+06, 1.3000000e+07, 3.9750000e+06, 8.5000000e+06,\n",
       "       1.2500000e+07, 4.5000000e+06, 1.5200000e+07, 1.7000000e+07,\n",
       "       9.5600000e+06, 6.3000000e+06, 1.8000000e+07, 9.3000000e+06,\n",
       "       5.6000000e+06, 2.0000000e+07, 3.8000000e+06, 7.2000000e+06,\n",
       "       4.9000000e+06, 1.1457000e+07, 1.1400000e+07, 4.1000000e+06,\n",
       "       2.3500000e+07, 2.3000000e+07, 7.8000000e+06, 9.8000000e+06,\n",
       "       1.6000000e+07, 7.4000000e+06, 8.2000000e+06, 1.3500000e+07,\n",
       "       7.4500000e+06, 5.0000000e+07, 6.8000000e+06, 9.9500000e+06,\n",
       "       4.4000000e+06, 7.1000000e+06, 4.5000000e+07, 1.0000000e+08,\n",
       "       8.6000000e+06, 2.1200000e+07, 1.1500000e+07, 1.0500000e+07,\n",
       "       4.0000000e+07, 3.3000000e+06, 1.0800000e+07, 2.4000000e+07,\n",
       "       1.4500000e+07, 5.1000000e+06, 1.0564000e+07, 8.4000000e+06,\n",
       "       3.5000000e+07, 5.3000000e+06, 6.0000000e+07, 2.1000000e+07,\n",
       "       2.7000000e+07, 1.5000000e+06, 8.3000000e+06, 1.8600000e+07,\n",
       "       1.5500000e+07, 2.0000000e+06, 5.1500000e+06, 5.8000000e+06,\n",
       "       6.4000000e+06, 9.6000000e+06, 3.7500000e+06, 5.7000000e+06,\n",
       "       5.2000000e+06, 5.4000000e+06, 1.3600000e+07, 8.9000000e+06,\n",
       "       1.3138000e+07, 8.7700000e+06, 6.1770000e+06, 2.0590787e+07,\n",
       "       8.2320000e+06, 3.1000000e+07, 9.4500000e+06, 6.1000000e+06,\n",
       "       4.8000000e+06, 4.8600000e+06, 8.0000000e+07, 9.7000000e+06,\n",
       "       1.6500000e+07, 4.7000000e+06, 1.9000000e+07])"
      ]
     },
     "metadata": {},
     "output_type": "display_data"
    },
    {
     "data": {
      "text/html": [
       "<div>\n",
       "<style scoped>\n",
       "    .dataframe tbody tr th:only-of-type {\n",
       "        vertical-align: middle;\n",
       "    }\n",
       "\n",
       "    .dataframe tbody tr th {\n",
       "        vertical-align: top;\n",
       "    }\n",
       "\n",
       "    .dataframe thead th {\n",
       "        text-align: right;\n",
       "    }\n",
       "</style>\n",
       "<table border=\"1\" class=\"dataframe\">\n",
       "  <thead>\n",
       "    <tr style=\"text-align: right;\">\n",
       "      <th></th>\n",
       "      <th>STT</th>\n",
       "      <th>SoTienDKVayBanDau</th>\n",
       "      <th>TienGiaiNgan</th>\n",
       "      <th>SoTienConLai</th>\n",
       "      <th>application_date</th>\n",
       "      <th>TS_CREDIT_SCORE_V2</th>\n",
       "      <th>Số điện thoại khách hàng</th>\n",
       "      <th>FromDate</th>\n",
       "      <th>ID</th>\n",
       "      <th>LoanID</th>\n",
       "      <th>...</th>\n",
       "      <th>InterestPaymentType</th>\n",
       "      <th>LongestOverdue</th>\n",
       "      <th>CreditInfo</th>\n",
       "      <th>Name</th>\n",
       "      <th>Address</th>\n",
       "      <th>CheckTime</th>\n",
       "      <th>Brieft</th>\n",
       "      <th>NumberOfLoans</th>\n",
       "      <th>HasBadDebt</th>\n",
       "      <th>HasLatePayment</th>\n",
       "    </tr>\n",
       "  </thead>\n",
       "  <tbody>\n",
       "  </tbody>\n",
       "</table>\n",
       "<p>0 rows × 49 columns</p>\n",
       "</div>"
      ],
      "text/plain": [
       "Empty DataFrame\n",
       "Columns: [STT, SoTienDKVayBanDau, TienGiaiNgan, SoTienConLai, application_date, TS_CREDIT_SCORE_V2, Số điện thoại khách hàng, FromDate, ID, LoanID, Số tiền đăng ký vay ban đầu, Tiền giải ngân, Tiền gốc còn lại, ToDate, Trạng thái, FullName, CardNumber, Gender, Birthday, CityName, DistrictName, WardName, Hình thức cư trú, Thời gian đã sống, Street, CityNameHouseHold, DistrictNameHouseHold, WardNameHouseHold, JobName, NameCompany, AddressCompany, CityCompany, DistrictNameCompany, Salary, ReceiveYourIncomeSalary, DescriptionPositionJob, RelativeFamilyName, FullNameFamily, ProductCreditName, InterestPaymentType, LongestOverdue, CreditInfo, Name, Address, CheckTime, Brieft, NumberOfLoans, HasBadDebt, HasLatePayment]\n",
       "Index: []\n",
       "\n",
       "[0 rows x 49 columns]"
      ]
     },
     "metadata": {},
     "output_type": "display_data"
    }
   ],
   "source": [
    "ten_cot = 'Salary'\n",
    "df[ten_cot] = pd.to_numeric(df[ten_cot], errors='coerce')\n",
    "\n",
    "display(df[ten_cot].unique())\n",
    "\n",
    "non_positive_or_non_numeric = df[~df[ten_cot].apply(pd.to_numeric, errors='coerce').notna() | (df[ten_cot] < 0)]\n",
    "\n",
    "\n",
    "display(non_positive_or_non_numeric)"
   ]
  },
  {
   "cell_type": "code",
   "execution_count": 59,
   "metadata": {},
   "outputs": [],
   "source": [
    "df['Tiền đã trả'] = df['Tiền giải ngân'] - df['Tiền gốc còn lại']"
   ]
  },
  {
   "cell_type": "markdown",
   "metadata": {},
   "source": [
    "## Scatter NaN Processing"
   ]
  },
  {
   "cell_type": "code",
   "execution_count": 60,
   "metadata": {},
   "outputs": [],
   "source": [
    "df['ProductCreditName'] = df['ProductCreditName'].fillna('Cầm cố Điện thoại')"
   ]
  },
  {
   "cell_type": "code",
   "execution_count": 61,
   "metadata": {},
   "outputs": [
    {
     "name": "stderr",
     "output_type": "stream",
     "text": [
      "C:\\Users\\admin\\AppData\\Local\\Temp\\ipykernel_29976\\3626488499.py:1: FutureWarning: Series.fillna with 'method' is deprecated and will raise in a future version. Use obj.ffill() or obj.bfill() instead.\n",
      "  df['CheckTime'] = df['CheckTime'].fillna(method='ffill')\n"
     ]
    }
   ],
   "source": [
    "df['CheckTime'] = df['CheckTime'].fillna(method='ffill')"
   ]
  },
  {
   "cell_type": "code",
   "execution_count": 62,
   "metadata": {},
   "outputs": [],
   "source": [
    "df = df.drop(columns=['Brieft', 'Name', 'Address', 'DescriptionPositionJob', 'ReceiveYourIncomeSalary', 'SoTienDKVayBanDau', 'TienGiaiNgan', 'Hình thức cư trú', 'CreditInfo', 'Street', 'SoTienConLai'])"
   ]
  },
  {
   "cell_type": "code",
   "execution_count": 63,
   "metadata": {},
   "outputs": [],
   "source": [
    "df['JobName'] = df['JobName'].replace({\n",
    "    'Tự doanh không ĐKKD': 'Kinh doanh tự do',\n",
    "    'Kinh doanh tại nhà (không có đăng ký kinh doanh)': 'Kinh doanh tự do',\n",
    "    'Tự doanh có ĐKKD': 'Kinh doanh tự do',\n",
    "    'Tự doanh tại chợ': 'Kinh doanh tự do',\n",
    "    'Các hình thức tự kinh doanh khác': 'Kinh doanh tự do',\n",
    "\n",
    "    'Kiểm soát': 'Quản lý',\n",
    "    'Giám Sát': 'Quản lý',\n",
    "\n",
    "    'Lái xe': 'Vận chuyển',\n",
    "    'Tài xế': 'Vận chuyển',\n",
    "    'Shipper(Giao hàng)': 'Vận chuyển',\n",
    "\n",
    "    'Graber và Khác': 'Khác',\n",
    "\n",
    "    'Nhân viên tổ chức nhà nước': 'Công chức Nhà nước',\n",
    "    'CQ Hành chính Nhà nước': 'Công chức Nhà nước',\n",
    "\n",
    "    'Bảo vệ': 'Công việc dịch vụ',\n",
    "    'Tạp Vụ/Lao công': 'Công việc dịch vụ',\n",
    "\n",
    "    'Tài chính': 'Tài chính - Kế toán',\n",
    "    'Kế toán': 'Tài chính - Kế toán',\n",
    "\n",
    "    'Công nhân': 'Sản xuất - Kho bãi',\n",
    "    'Kho' : 'Sản xuất - Kho bãi',\n",
    "\n",
    "    'Nhân viên bảo hiểm' : 'Tư vấn - Bảo hiểm',\n",
    "    'Tư vấn' : 'Tư vấn - Bảo hiểm',\n",
    "\n",
    "    'Nhân sự': 'Hành chính - Nhân sự',\n",
    "    'Thư ký/Trợ lý': 'Hành chính - Nhân sự',\n",
    "\n",
    "    'Kỹ thuật (Điện/Nước/Điều hòa)': 'Kỹ sư dân dụng',\n",
    "    'Kỹ sư (Điện/Nước/Xây dựng/Giao thông)': 'Kỹ sư xây dựng',\n",
    "\n",
    "    'Thất nghiệp': 'Người tìm việc / công việc không ổn định',\n",
    "    'Công việc ko ổn định/Thu nhập thất thường': 'Người tìm việc / công việc không ổn định',\n",
    "\n",
    "    'Giáo viên': 'Giáo dục và Đào tạo',\n",
    "    'Giảng viên': 'Giáo dục và Đào tạo',\n",
    "    'Đào tạo': 'Giáo dục và Đào tạo',\n",
    "\n",
    "    'Bán hàng': 'Bán hàng',\n",
    "    'Chăm sóc KH': 'Bán hàng',\n",
    "    'Hỗ trợ Kinh doanh': 'Bán hàng',\n",
    "\n",
    "    'Kinh doanh': 'Kinh doanh - Marketing',\n",
    "    'Marketing': 'Kinh doanh - Marketing',\n",
    "\n",
    "    'Y tá': 'Y tế - Lễ tân',\n",
    "    'Lễ tân': 'Y tế - Lễ tân'\n",
    "})\n",
    "\n",
    "df['Thời gian đã sống'] = df['Thời gian đã sống'].replace('-1', 'Hơn 10 năm')"
   ]
  },
  {
   "cell_type": "code",
   "execution_count": 64,
   "metadata": {},
   "outputs": [],
   "source": [
    "df['AddressCompany'] = df['AddressCompany'].fillna('Không có')\n",
    "df['NameCompany'] = df['NameCompany'].fillna('Không có')\n",
    "df['RelativeFamilyName'] = df['RelativeFamilyName'].fillna('Không có')\n",
    "df['FullNameFamily'] = df['FullNameFamily'].fillna('Không có')"
   ]
  },
  {
   "cell_type": "code",
   "execution_count": 65,
   "metadata": {},
   "outputs": [
    {
     "data": {
      "text/html": [
       "<div>\n",
       "<style scoped>\n",
       "    .dataframe tbody tr th:only-of-type {\n",
       "        vertical-align: middle;\n",
       "    }\n",
       "\n",
       "    .dataframe tbody tr th {\n",
       "        vertical-align: top;\n",
       "    }\n",
       "\n",
       "    .dataframe thead th {\n",
       "        text-align: right;\n",
       "    }\n",
       "</style>\n",
       "<table border=\"1\" class=\"dataframe\">\n",
       "  <thead>\n",
       "    <tr style=\"text-align: right;\">\n",
       "      <th></th>\n",
       "      <th>STT</th>\n",
       "      <th>JobName</th>\n",
       "      <th>NameCompany</th>\n",
       "    </tr>\n",
       "  </thead>\n",
       "  <tbody>\n",
       "  </tbody>\n",
       "</table>\n",
       "</div>"
      ],
      "text/plain": [
       "Empty DataFrame\n",
       "Columns: [STT, JobName, NameCompany]\n",
       "Index: []"
      ]
     },
     "metadata": {},
     "output_type": "display_data"
    }
   ],
   "source": [
    "df.loc[df['NameCompany'].str.contains('Công an|Bộ đội', case=False, na=False), 'JobName'] = 'Nhân viên công an/bộ đội'\n",
    "df.loc[df['NameCompany'].str.contains('Không có', case=False, na=False) & df['JobName'].isna(), 'JobName'] = 'Không có'\n",
    "df.loc[df['JobName'].isnull(), 'JobName'] = 'Khác'\n",
    "\n",
    "df_filtered = df[df['NameCompany'].str.contains('Không có', case=False, na=False) & df['JobName'].isna()][['STT' ,'JobName', 'NameCompany']]\n",
    "\n",
    "# In ra kết quả\n",
    "display(df_filtered)"
   ]
  },
  {
   "cell_type": "code",
   "execution_count": 66,
   "metadata": {},
   "outputs": [
    {
     "name": "stdout",
     "output_type": "stream",
     "text": [
      "datetime64[ns]\n"
     ]
    },
    {
     "name": "stderr",
     "output_type": "stream",
     "text": [
      "C:\\Users\\admin\\AppData\\Local\\Temp\\ipykernel_29976\\3170493001.py:1: UserWarning: Could not infer format, so each element will be parsed individually, falling back to `dateutil`. To ensure parsing is consistent and as-expected, please specify a format.\n",
      "  df['application_date'] = pd.to_datetime(df['application_date'], errors='coerce')\n"
     ]
    }
   ],
   "source": [
    "df['application_date'] = pd.to_datetime(df['application_date'], errors='coerce')\n",
    "df['application_date'] = df['application_date'].fillna(pd.Timestamp('2023-02-28'))\n",
    "print(df['application_date'].dtypes)"
   ]
  },
  {
   "cell_type": "markdown",
   "metadata": {},
   "source": [
    "## Xử lý Gender"
   ]
  },
  {
   "cell_type": "code",
   "execution_count": 67,
   "metadata": {},
   "outputs": [
    {
     "data": {
      "text/plain": [
       "array(['0.0', 0.0, '1.0'], dtype=object)"
      ]
     },
     "metadata": {},
     "output_type": "display_data"
    }
   ],
   "source": [
    "df['Gender'] = df['Gender'].replace({'Male': 0.0, 'Female': 1.0})\n",
    "display(df['Gender'].unique())"
   ]
  },
  {
   "cell_type": "markdown",
   "metadata": {},
   "source": [
    "## Xử lý Phone Number"
   ]
  },
  {
   "cell_type": "code",
   "execution_count": 68,
   "metadata": {},
   "outputs": [],
   "source": [
    "df['Số điện thoại khách hàng'] = df['Số điện thoại khách hàng'].apply(lambda x: '0' + str(x) if len(str(x)) == 9 else str(x))"
   ]
  },
  {
   "cell_type": "markdown",
   "metadata": {},
   "source": [
    "## Xử lý Datetime Attribute"
   ]
  },
  {
   "cell_type": "code",
   "execution_count": 69,
   "metadata": {},
   "outputs": [],
   "source": [
    "df['Birthday'] = pd.to_datetime(df['Birthday'], errors='coerce')\n",
    "\n",
    "median_birthday = df['Birthday'].median()\n",
    "\n",
    "df['Birthday'] = df['Birthday'].fillna(median_birthday)"
   ]
  },
  {
   "cell_type": "code",
   "execution_count": 70,
   "metadata": {},
   "outputs": [],
   "source": [
    "df['Age'] = df['Birthday'].apply(lambda x: (datetime.now() - x).days // 365)"
   ]
  },
  {
   "cell_type": "markdown",
   "metadata": {},
   "source": [
    "### Áp dụng MachineLearning: Cột Thời gian đã sống"
   ]
  },
  {
   "cell_type": "code",
   "execution_count": 71,
   "metadata": {},
   "outputs": [
    {
     "data": {
      "text/plain": [
       "(                                  STT  TS_CREDIT_SCORE_V2        ID    LoanID  \\\n",
       " STT                          1.000000            0.182521  0.890450  0.745989   \n",
       " TS_CREDIT_SCORE_V2           0.182521            1.000000  0.212805  0.170271   \n",
       " ID                           0.890450            0.212805  1.000000  0.853149   \n",
       " LoanID                       0.745989            0.170271  0.853149  1.000000   \n",
       " Số tiền đăng ký vay ban đầu  0.084439            0.037467  0.083060  0.068768   \n",
       " Tiền giải ngân               0.076614            0.036696  0.074406  0.060586   \n",
       " Tiền gốc còn lại             0.077847            0.033456  0.076672  0.063570   \n",
       " CardNumber                   0.073171            0.065491  0.088864  0.086448   \n",
       " Salary                       0.129314            0.077046  0.139139  0.081925   \n",
       " LongestOverdue              -0.080981           -0.159309 -0.107813 -0.156739   \n",
       " NumberOfLoans                0.125822            0.300319  0.153833  0.134475   \n",
       " HasBadDebt                  -0.107701           -0.096207 -0.099500 -0.071572   \n",
       " HasLatePayment               0.053190            0.050741  0.044489  0.032881   \n",
       " Tiền đã trả                 -0.018635            0.026097 -0.027865 -0.033096   \n",
       " Age                         -0.075292            0.096431 -0.065700 -0.058372   \n",
       " \n",
       "                              Số tiền đăng ký vay ban đầu  Tiền giải ngân  \\\n",
       " STT                                             0.084439        0.076614   \n",
       " TS_CREDIT_SCORE_V2                              0.037467        0.036696   \n",
       " ID                                              0.083060        0.074406   \n",
       " LoanID                                          0.068768        0.060586   \n",
       " Số tiền đăng ký vay ban đầu                     1.000000        0.996737   \n",
       " Tiền giải ngân                                  0.996737        1.000000   \n",
       " Tiền gốc còn lại                                0.990893        0.994010   \n",
       " CardNumber                                      0.017296        0.018897   \n",
       " Salary                                          0.067738        0.060079   \n",
       " LongestOverdue                                  0.000838        0.002819   \n",
       " NumberOfLoans                                   0.005856        0.007439   \n",
       " HasBadDebt                                     -0.016040       -0.017039   \n",
       " HasLatePayment                                 -0.013804       -0.014020   \n",
       " Tiền đã trả                                    -0.042297       -0.041274   \n",
       " Age                                             0.053446        0.051340   \n",
       " \n",
       "                              Tiền gốc còn lại  CardNumber    Salary  \\\n",
       " STT                                  0.077847    0.073171  0.129314   \n",
       " TS_CREDIT_SCORE_V2                   0.033456    0.065491  0.077046   \n",
       " ID                                   0.076672    0.088864  0.139139   \n",
       " LoanID                               0.063570    0.086448  0.081925   \n",
       " Số tiền đăng ký vay ban đầu          0.990893    0.017296  0.067738   \n",
       " Tiền giải ngân                       0.994010    0.018897  0.060079   \n",
       " Tiền gốc còn lại                     1.000000    0.017894  0.053162   \n",
       " CardNumber                           0.017894    1.000000  0.011144   \n",
       " Salary                               0.053162    0.011144  1.000000   \n",
       " LongestOverdue                      -0.003776   -0.015608 -0.002467   \n",
       " NumberOfLoans                        0.002939    0.023604  0.063415   \n",
       " HasBadDebt                          -0.014593   -0.006843 -0.000394   \n",
       " HasLatePayment                      -0.016034   -0.003875  0.021347   \n",
       " Tiền đã trả                         -0.150227    0.007353  0.057466   \n",
       " Age                                  0.051517    0.050388  0.161712   \n",
       " \n",
       "                              LongestOverdue  NumberOfLoans  HasBadDebt  \\\n",
       " STT                               -0.080981       0.125822   -0.107701   \n",
       " TS_CREDIT_SCORE_V2                -0.159309       0.300319   -0.096207   \n",
       " ID                                -0.107813       0.153833   -0.099500   \n",
       " LoanID                            -0.156739       0.134475   -0.071572   \n",
       " Số tiền đăng ký vay ban đầu        0.000838       0.005856   -0.016040   \n",
       " Tiền giải ngân                     0.002819       0.007439   -0.017039   \n",
       " Tiền gốc còn lại                  -0.003776       0.002939   -0.014593   \n",
       " CardNumber                        -0.015608       0.023604   -0.006843   \n",
       " Salary                            -0.002467       0.063415   -0.000394   \n",
       " LongestOverdue                     1.000000      -0.112511    0.061303   \n",
       " NumberOfLoans                     -0.112511       1.000000   -0.427231   \n",
       " HasBadDebt                         0.061303      -0.427231    1.000000   \n",
       " HasLatePayment                    -0.006261       0.373035   -0.143496   \n",
       " Tiền đã trả                        0.060019       0.040426   -0.020717   \n",
       " Age                                0.002688       0.036010    0.029694   \n",
       " \n",
       "                              HasLatePayment  Tiền đã trả       Age  \n",
       " STT                                0.053190    -0.018635 -0.075292  \n",
       " TS_CREDIT_SCORE_V2                 0.050741     0.026097  0.096431  \n",
       " ID                                 0.044489    -0.027865 -0.065700  \n",
       " LoanID                             0.032881    -0.033096 -0.058372  \n",
       " Số tiền đăng ký vay ban đầu       -0.013804    -0.042297  0.053446  \n",
       " Tiền giải ngân                    -0.014020    -0.041274  0.051340  \n",
       " Tiền gốc còn lại                  -0.016034    -0.150227  0.051517  \n",
       " CardNumber                        -0.003875     0.007353  0.050388  \n",
       " Salary                             0.021347     0.057466  0.161712  \n",
       " LongestOverdue                    -0.006261     0.060019  0.002688  \n",
       " NumberOfLoans                      0.373035     0.040426  0.036010  \n",
       " HasBadDebt                        -0.143496    -0.020717  0.029694  \n",
       " HasLatePayment                     1.000000     0.019758  0.009427  \n",
       " Tiền đã trả                        0.019758     1.000000 -0.006548  \n",
       " Age                                0.009427    -0.006548  1.000000  ,\n",
       " {'Số điện thoại khách hàng': 1851,\n",
       "  'FromDate': 664,\n",
       "  'ToDate': 837,\n",
       "  'Trạng thái': 4,\n",
       "  'FullName': 1744,\n",
       "  'Gender': 3,\n",
       "  'CityName': 10,\n",
       "  'DistrictName': 55,\n",
       "  'WardName': 255,\n",
       "  'Thời gian đã sống': 7,\n",
       "  'CityNameHouseHold': 56,\n",
       "  'DistrictNameHouseHold': 225,\n",
       "  'WardNameHouseHold': 584,\n",
       "  'JobName': 29,\n",
       "  'NameCompany': 1803,\n",
       "  'AddressCompany': 1901,\n",
       "  'CityCompany': 5,\n",
       "  'DistrictNameCompany': 224,\n",
       "  'RelativeFamilyName': 6,\n",
       "  'FullNameFamily': 1570,\n",
       "  'ProductCreditName': 10,\n",
       "  'InterestPaymentType': 4,\n",
       "  'CheckTime': 1852})"
      ]
     },
     "execution_count": 71,
     "metadata": {},
     "output_type": "execute_result"
    }
   ],
   "source": [
    "# Kiểm tra tương quan\n",
    "\n",
    "numerical_cols = df.select_dtypes(include=['int64', 'float64']).columns\n",
    "categorical_cols = df.select_dtypes(include=['object']).columns\n",
    "\n",
    "# Ma trận tương quan\n",
    "correlation_matrix = df[numerical_cols].corr()\n",
    "\n",
    "# Giá trị duy nhất\n",
    "unique_values = {col: df[col].nunique() for col in categorical_cols}\n",
    "\n",
    "correlation_matrix, unique_values"
   ]
  },
  {
   "cell_type": "code",
   "execution_count": 72,
   "metadata": {},
   "outputs": [
    {
     "name": "stdout",
     "output_type": "stream",
     "text": [
      "Phần trăm dữ liệu bị thiếu của từng cột:\n",
      "Thời gian đã sống              6.675116\n",
      "DistrictNameHouseHold          0.000000\n",
      "WardNameHouseHold              0.000000\n",
      "JobName                        0.000000\n",
      "NameCompany                    0.000000\n",
      "AddressCompany                 0.000000\n",
      "CityCompany                    0.000000\n",
      "DistrictNameCompany            0.000000\n",
      "Salary                         0.000000\n",
      "RelativeFamilyName             0.000000\n",
      "STT                            0.000000\n",
      "ProductCreditName              0.000000\n",
      "InterestPaymentType            0.000000\n",
      "LongestOverdue                 0.000000\n",
      "CheckTime                      0.000000\n",
      "NumberOfLoans                  0.000000\n",
      "HasBadDebt                     0.000000\n",
      "HasLatePayment                 0.000000\n",
      "Tiền đã trả                    0.000000\n",
      "FullNameFamily                 0.000000\n",
      "CityNameHouseHold              0.000000\n",
      "application_date               0.000000\n",
      "Tiền gốc còn lại               0.000000\n",
      "TS_CREDIT_SCORE_V2             0.000000\n",
      "Số điện thoại khách hàng       0.000000\n",
      "FromDate                       0.000000\n",
      "ID                             0.000000\n",
      "LoanID                         0.000000\n",
      "Số tiền đăng ký vay ban đầu    0.000000\n",
      "Tiền giải ngân                 0.000000\n",
      "ToDate                         0.000000\n",
      "WardName                       0.000000\n",
      "Trạng thái                     0.000000\n",
      "FullName                       0.000000\n",
      "CardNumber                     0.000000\n",
      "Gender                         0.000000\n",
      "Birthday                       0.000000\n",
      "CityName                       0.000000\n",
      "DistrictName                   0.000000\n",
      "Age                            0.000000\n",
      "dtype: float64\n"
     ]
    }
   ],
   "source": [
    "missing_percentage = (df.isnull().mean() * 100).sort_values(ascending=False)\n",
    "\n",
    "# In kết quả\n",
    "print(\"Phần trăm dữ liệu bị thiếu của từng cột:\")\n",
    "print(missing_percentage)"
   ]
  },
  {
   "cell_type": "code",
   "execution_count": 73,
   "metadata": {},
   "outputs": [
    {
     "name": "stdout",
     "output_type": "stream",
     "text": [
      "Các hàng có giá trị thiếu ở cột\n"
     ]
    },
    {
     "data": {
      "text/html": [
       "<div>\n",
       "<style scoped>\n",
       "    .dataframe tbody tr th:only-of-type {\n",
       "        vertical-align: middle;\n",
       "    }\n",
       "\n",
       "    .dataframe tbody tr th {\n",
       "        vertical-align: top;\n",
       "    }\n",
       "\n",
       "    .dataframe thead th {\n",
       "        text-align: right;\n",
       "    }\n",
       "</style>\n",
       "<table border=\"1\" class=\"dataframe\">\n",
       "  <thead>\n",
       "    <tr style=\"text-align: right;\">\n",
       "      <th></th>\n",
       "      <th>STT</th>\n",
       "      <th>JobName</th>\n",
       "      <th>NameCompany</th>\n",
       "    </tr>\n",
       "  </thead>\n",
       "  <tbody>\n",
       "  </tbody>\n",
       "</table>\n",
       "</div>"
      ],
      "text/plain": [
       "Empty DataFrame\n",
       "Columns: [STT, JobName, NameCompany]\n",
       "Index: []"
      ]
     },
     "metadata": {},
     "output_type": "display_data"
    }
   ],
   "source": [
    "pd.set_option('display.max_colwidth', None)\n",
    "\n",
    "# Lọc các hàng có giá trị thiếu ở cột 'WardName'\n",
    "missing_rows = df[df['JobName'].isnull()][['STT' ,'JobName', 'NameCompany']]\n",
    "\n",
    "# In kết quả\n",
    "print(\"Các hàng có giá trị thiếu ở cột\")\n",
    "display(missing_rows)"
   ]
  },
  {
   "cell_type": "code",
   "execution_count": 74,
   "metadata": {},
   "outputs": [],
   "source": [
    "df['STT'] = df['STT'].astype(int)\n",
    "df['application_date'] = pd.to_datetime(df['application_date'], format='%Y-%m-%d')\n",
    "df['TS_CREDIT_SCORE_V2'] = df['TS_CREDIT_SCORE_V2'].astype(int)\n",
    "df['Số điện thoại khách hàng'] = df['Số điện thoại khách hàng'].astype(str)\n",
    "df['FromDate'] = pd.to_datetime(df['FromDate'], errors='coerce')\n",
    "df['ID'] = df['ID'].astype(int)\n",
    "df['LoanID'] = df['LoanID'].astype(int)\n",
    "df['Số tiền đăng ký vay ban đầu'] = df['Số tiền đăng ký vay ban đầu'].astype(float)\n",
    "df['Tiền giải ngân'] = df['Tiền giải ngân'].astype(float)\n",
    "df['Tiền gốc còn lại'] = df['Tiền gốc còn lại'].astype(float)\n",
    "df['ToDate'] = pd.to_datetime(df['ToDate'], errors='coerce')\n",
    "df['Trạng thái'] = df['Trạng thái'].astype(str)\n",
    "df['FullName'] = df['FullName'].astype(str)\n",
    "df['CardNumber'] = df['CardNumber'].astype(str)\n",
    "df['Gender'] = df['Gender'].astype(float)\n",
    "df['Birthday'] = pd.to_datetime(df['Birthday'], format='%Y-%m-%d', errors='coerce')\n",
    "df['CityName'] = df['CityName'].astype(str)\n",
    "df['DistrictName'] = df['DistrictName'].astype(str)\n",
    "df['WardName'] = df['WardName'].astype(str)\n",
    "df['Thời gian đã sống'] = df['Thời gian đã sống'].astype(str)\n",
    "df['CityNameHouseHold'] = df['CityNameHouseHold'].astype(str)\n",
    "df['DistrictNameHouseHold'] = df['DistrictNameHouseHold'].astype(str)\n",
    "df['WardNameHouseHold'] = df['WardNameHouseHold'].astype(str)\n",
    "df['JobName'] = df['JobName'].astype(str)\n",
    "df['NameCompany'] = df['NameCompany'].astype(str)\n",
    "df['AddressCompany'] = df['AddressCompany'].astype(str)\n",
    "df['CityCompany'] = df['CityCompany'].astype(str)\n",
    "df['DistrictNameCompany'] = df['DistrictNameCompany'].astype(str)\n",
    "df['Salary'] = df['Salary'].astype(float)\n",
    "df['RelativeFamilyName'] = df['RelativeFamilyName'].astype(str)\n",
    "df['FullNameFamily'] = df['FullNameFamily'].astype(str)\n",
    "df['ProductCreditName'] = df['ProductCreditName'].astype(str)\n",
    "df['InterestPaymentType'] = df['InterestPaymentType'].astype(str)\n",
    "df['LongestOverdue'] = df['LongestOverdue'].astype(int)\n",
    "df['CheckTime'] = pd.to_datetime(df['CheckTime'], format='%Y-%m-%d %H:%M:%S', errors='coerce')\n",
    "df['NumberOfLoans'] = df['NumberOfLoans'].astype(int)\n",
    "df['HasBadDebt'] = df['HasBadDebt'].astype(bool)\n",
    "df['HasLatePayment'] = df['HasLatePayment'].astype(bool)\n",
    "df['Age'] = df['Age'].astype(int)\n",
    "df['Tiền đã trả'] = df['Tiền đã trả'].astype(float)"
   ]
  },
  {
   "cell_type": "code",
   "execution_count": 75,
   "metadata": {},
   "outputs": [],
   "source": [
    "datetime_columns = ['application_date', 'FromDate', 'ToDate', 'CheckTime', 'Birthday']\n",
    "\n",
    "# Vòng lặp xử lý từng cột datetime\n",
    "for col in datetime_columns:\n",
    "    df[f'{col}_Year'] = df[col].dt.year\n",
    "    df[f'{col}_Month'] = df[col].dt.month\n",
    "    df[f'{col}_Day'] = df[col].dt.day\n",
    "    df[f'{col}_Weekday'] = df[col].dt.strftime('%A')\n",
    "    df[f'{col}_Quarter'] = df[col].dt.quarter\n",
    "\n",
    "    if (df[col].dt.hour != 0).any() or (df[col].dt.minute != 0).any() or (df[col].dt.second != 0).any():\n",
    "        df[f'{col}_Hour'] = df[col].dt.hour\n",
    "        df[f'{col}_Minute'] = df[col].dt.minute\n",
    "        df[f'{col}_Second'] = df[col].dt.second "
   ]
  },
  {
   "cell_type": "markdown",
   "metadata": {},
   "source": [
    "## Lưu file "
   ]
  },
  {
   "cell_type": "code",
   "execution_count": 76,
   "metadata": {},
   "outputs": [
    {
     "name": "stdout",
     "output_type": "stream",
     "text": [
      "Succeed\n"
     ]
    }
   ],
   "source": [
    "alter_data = 'Dataset/alter_bankersData.csv'\n",
    "df.to_csv(alter_data, index=False, encoding='utf-8')\n",
    "\n",
    "print('Succeed')"
   ]
  },
  {
   "cell_type": "markdown",
   "metadata": {},
   "source": [
    "### Import vào CSDL"
   ]
  },
  {
   "cell_type": "code",
   "execution_count": 77,
   "metadata": {},
   "outputs": [],
   "source": [
    "conn_str = (\n",
    "    'mssql+pyodbc://:@MELIST/Bank_Test'\n",
    "    '?driver=ODBC+Driver+17+for+SQL+Server'\n",
    ")\n",
    "engine = create_engine(conn_str)"
   ]
  },
  {
   "cell_type": "code",
   "execution_count": 78,
   "metadata": {},
   "outputs": [
    {
     "data": {
      "text/plain": [
       "27"
      ]
     },
     "execution_count": 78,
     "metadata": {},
     "output_type": "execute_result"
    }
   ],
   "source": [
    "alter_data = pd.read_csv('Dataset/alter_bankersData.csv')\n",
    "\n",
    "table_name = 'Bankers'\n",
    "alter_data.to_sql(table_name, con=engine, if_exists='replace', index=False)"
   ]
  }
 ],
 "metadata": {
  "kernelspec": {
   "display_name": "base",
   "language": "python",
   "name": "python3"
  },
  "language_info": {
   "codemirror_mode": {
    "name": "ipython",
    "version": 3
   },
   "file_extension": ".py",
   "mimetype": "text/x-python",
   "name": "python",
   "nbconvert_exporter": "python",
   "pygments_lexer": "ipython3",
   "version": "3.12.4"
  }
 },
 "nbformat": 4,
 "nbformat_minor": 2
}
